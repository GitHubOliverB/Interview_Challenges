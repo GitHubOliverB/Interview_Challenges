{
 "cells": [
  {
   "cell_type": "markdown",
   "metadata": {},
   "source": [
    "## What's the probability?\n",
    "__Problem:__\n",
    "\n",
    "You pick any integer between 1 and 32. You are then allowed to randomly draw 6 unique integers between 1 and 32. What's the probability that you successfully pulled your own number?"
   ]
  },
  {
   "cell_type": "code",
   "execution_count": 112,
   "metadata": {},
   "outputs": [],
   "source": [
    "# Basic Python Libs\n",
    "import numpy as np\n",
    "import math\n",
    "import random\n",
    "from scipy import stats\n",
    "from itertools import combinations\n",
    "from matplotlib import pyplot as plt"
   ]
  },
  {
   "cell_type": "markdown",
   "metadata": {},
   "source": [
    "You can approach this problem in many different ways. I'll stick to the one I find simplest. Also I'll start off with the simplest version of this problem and slowly scale it up.\n",
    "\n",
    "So the general problem is to find the probability $p_{hit}$ to find a picked number $n_{pick}$ in a pool of a certain number of unique drawn numbers $N_{drawn}$ with a size of $N_{pool}$ out of a total pool of numbers with length $N_{total}$.\n",
    "\n",
    "Since we draw unique numbers, we know that: $N_{pool}\\,<=\\,N_{total}$.  \n",
    "If $N_{pool}=N_{total}$, then we know that $p_{hit}=1$ must be true.\n",
    "\n",
    "MATH $...$\n",
    "\n",
    "Solution: $\\frac{N_{pool}}{N_{total}}$\n",
    "\n",
    "Example: $\\frac{6}{32} = \\frac{3}{16} = 0.1875$"
   ]
  },
  {
   "cell_type": "code",
   "execution_count": 113,
   "metadata": {},
   "outputs": [],
   "source": [
    "# range stop is not included\n",
    "def random_pull(range_start, range_stop, pull_number):\n",
    "    sample = range(range_start, range_stop)\n",
    "    return random.sample(sample, pull_number)\n",
    "\n",
    "def how_many_hits(target, pulls, range_start, range_stop, pull_number):\n",
    "    if ((target > range_stop-1) | (target < range_start)):\n",
    "        print(\"Target number must be in pull range!\")\n",
    "        return 0\n",
    "    sample_draws = []\n",
    "    target_hits = 0\n",
    "    for k in range(pulls):\n",
    "        sample_draws.append(random_pull(range_start, range_stop, pull_number))\n",
    "    for draw in sample_draws:\n",
    "        if target in draw:\n",
    "            target_hits += 1\n",
    "    sample_length = len(sample_draws)\n",
    "    return float(100*target_hits/sample_length)"
   ]
  },
  {
   "cell_type": "code",
   "execution_count": 114,
   "metadata": {},
   "outputs": [
    {
     "data": {
      "image/png": "[encoded data removed]",
      "text/plain": [
       "<Figure size 1008x576 with 1 Axes>"
      ]
     },
     "metadata": {
      "needs_background": "light"
     },
     "output_type": "display_data"
    },
    {
     "name": "stdout",
     "output_type": "stream",
     "text": [
      "The probability to hit your number is approximately (18.752 +/- 0.041)%.\n"
     ]
    }
   ],
   "source": [
    "result_list = []\n",
    "for tries in range(1000):\n",
    "    result_list.append(how_many_hits(32, 1000, 1, 33, 6))\n",
    "  \n",
    "fig = plt.figure(figsize=(14,8))\n",
    "ax = fig.add_subplot(111)    \n",
    "ax.hist(result_list, bins=50)\n",
    "ax.hist([np.average(result_list)]*5, bins=50)\n",
    "plt.xlabel('Percentages [%]')\n",
    "plt.ylabel('Frequency')\n",
    "plt.show()\n",
    "print(\"The probability to hit your number is approximately ({0:.3f}\".format(np.average(result_list)) + \" +/- {0:.3f})%.\".format(stats.sem(result_list)))"
   ]
  }
 ],
 "metadata": {
  "kernelspec": {
   "display_name": "Python 3",
   "language": "python",
   "name": "python3"
  },
  "language_info": {
   "codemirror_mode": {
    "name": "ipython",
    "version": 3
   },
   "file_extension": ".py",
   "mimetype": "text/x-python",
   "name": "python",
   "nbconvert_exporter": "python",
   "pygments_lexer": "ipython3",
   "version": "3.7.4"
  }
 },
 "nbformat": 4,
 "nbformat_minor": 2
}
