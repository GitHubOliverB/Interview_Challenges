{
 "cells": [
  {
   "cell_type": "markdown",
   "metadata": {},
   "source": [
    "## What's the probability?\n",
    "__Problem:__\n",
    "\n",
    "You pick any integer between 1 and 32. You are then allowed to randomly draw 6 unique integers between 1 and 32. What's the probability that you successfully pulled your own number?"
   ]
  },
  {
   "cell_type": "code",
   "execution_count": 3,
   "metadata": {},
   "outputs": [],
   "source": [
    "# Basic Python Libs\n",
    "import numpy as np\n",
    "import math\n",
    "import random\n",
    "from scipy import stats\n",
    "from itertools import combinations\n",
    "from matplotlib import pyplot as plt"
   ]
  },
  {
   "cell_type": "markdown",
   "metadata": {},
   "source": [
    "You can approach this problem in many different ways. I'll stick to the one I find simplest. Also I'll start off with the simplest version of this problem and slowly scale it up.\n",
    "\n",
    "So the general problem is to find the probability $p_{hit}$ to find a picked number $n_{pick}$ in a pool of a certain number of unique drawn numbers $N_{drawn}$ with a size of $N_{pool}$ out of a total pool of numbers with length $N_{total}$.\n",
    "\n",
    "Since we draw unique numbers, we know that: $N_{pool}\\,<=\\,N_{total}$.  \n",
    "If $N_{pool}=N_{total}$, then we know that $p_{hit}=1$ must be true.\n",
    "\n",
    "The first non-trivial case is $N_{total} = 2$,  $N_{pool} = 1$:\n",
    "\n",
    "That's just a coin flip. We have two possible outcomes and we randomly draw one time. Hence: $p_{hit} = \\frac{1}{2}$.\n",
    "\n",
    "The next non-trivial case is $N_{total} = 3$,  $N_{pool} = 1$:\n",
    "\n",
    "Now we have three possible outcome and randomly draw one time. Hence $p_{hit} = \\frac{1}{3}$.\n",
    "\n",
    "We can see a pattern here. For $N_{pool} = 1$ it follows that $p_{hit} = \\frac{1}{N_{total}}$.\n",
    "\n",
    "Now let's work out the case with $N_{total} = 3$ and  $N_{pool} = 2$:\n",
    "\n",
    "So our pool of numbers can be described by $\\{1,2,3\\}$. The chance to pull the correct number depends on two things. The first one is simply the amount of numbers left in the pool, as every number has the same probability to be randomly pulled. The second one is if the correct number is still in the pool. If we already draw the correct number, the chance to pull the correct number becomes $0$.\n",
    "\n",
    "So we can either draw the correct number with the first draw with a $\\frac{1}{3}$ probability or draw a bummer with a $\\frac{2}{3}$ probability. If we draw a bummer, we then have a chance to draw the correct number with a $\\frac{1}{2}$ probability, since the amount of numbers in our pool decreased by one because of the first draw. Hence the probability to draw the correct number is given by:\n",
    "\n",
    "$p_{hit} = \\frac{1}{3} + \\frac{2}{3}\\cdot\\frac{1}{2} = \\frac{1}{3} + \\frac{1}{3} = \\frac{2}{3} = \\frac{N_{pool}}{N_{total}}$\n",
    "\n",
    "Let's do $N_{total} = 4$ and  $N_{pool} = 2$ & $N_{pool} = 3$:\n",
    "\n",
    "i) $p_{hit} = \\frac{1}{4} + \\frac{3}{4}\\cdot\\frac{1}{3} = \\frac{1}{4} + \\frac{1}{4} = \\frac{2}{4} = \\frac{N_{pool}}{N_{total}}$\n",
    "\n",
    "ii) $p_{hit} = \\frac{1}{4} + \\frac{3}{4}\\cdot\\frac{1}{3} + \\frac{3}{4}\\cdot\\frac{2}{3}\\cdot\\frac{1}{2} = \\frac{1}{4} + \\frac{1}{4} + \\frac{1}{4} = \\frac{3}{4} = \\frac{N_{pool}}{N_{total}}$\n",
    "\n",
    "I think everyone got the hang of it by now, so let's do it for the general case for $N_{total} > N_{pool} > 0$ with the Heavyside-function $\\mathcal{H}\\left(x\\right)$.\n",
    "\n",
    "\n",
    "\\begin{align*}\n",
    "  p_{hit} &= \\sum_{i=0}^{N_{pool}-1} \\frac{1}{N_{total}-i}\\cdot\\prod_{j=0}^{i} \\frac{N_{total}-j}{N_{total}-j+1\\cdot\\mathcal{H}\\left(i\\right)}\\\\\n",
    "  p_{hit} &= \\sum_{i=0}^{N_{pool}-1} \\frac{1}{N_{total}-i}\\cdot\\frac{N_{total}-i}{N_{total}}\\\\\n",
    "  p_{hit} &= \\sum_{i=0}^{N_{pool}}\\frac{1}{N_{total}}\\\\\n",
    "  p_{hit} &= \\frac{N_{pool}}{N_{total}}\n",
    "\\end{align*}\n",
    "\n",
    "Summary:\n",
    "\n",
    "Solution: $p_{hit} = \\frac{N_{pool}}{N_{total}}$\n",
    "\n",
    "Example: $\\frac{6}{32} = \\frac{3}{16} = 0.1875$"
   ]
  },
  {
   "cell_type": "code",
   "execution_count": 4,
   "metadata": {},
   "outputs": [],
   "source": [
    "# range stop is not included\n",
    "def random_pull(range_start, range_stop, pull_number):\n",
    "    sample = range(range_start, range_stop)\n",
    "    return random.sample(sample, pull_number)\n",
    "\n",
    "def how_many_hits(target, pulls, range_start, range_stop, pull_number):\n",
    "    if ((target > range_stop-1) | (target < range_start)):\n",
    "        print(\"Target number must be in pull range!\")\n",
    "        return 0\n",
    "    sample_draws = []\n",
    "    target_hits = 0\n",
    "    for k in range(pulls):\n",
    "        sample_draws.append(random_pull(range_start, range_stop, pull_number))\n",
    "    for draw in sample_draws:\n",
    "        if target in draw:\n",
    "            target_hits += 1\n",
    "    sample_length = len(sample_draws)\n",
    "    return float(100*target_hits/sample_length)"
   ]
  },
  {
   "cell_type": "code",
   "execution_count": 6,
   "metadata": {},
   "outputs": [
    {
     "data": {
      "image/png": "[encoded data removed]",
      "text/plain": [
       "<Figure size 1008x576 with 1 Axes>"
      ]
     },
     "metadata": {
      "needs_background": "light"
     },
     "output_type": "display_data"
    },
    {
     "name": "stdout",
     "output_type": "stream",
     "text": [
      "The probability to hit your number is approximately (18.743 +/- 0.012)%.\n"
     ]
    }
   ],
   "source": [
    "result_list = []\n",
    "for tries in range(10000):\n",
    "    result_list.append(how_many_hits(32, 1000, 1, 33, 6))\n",
    "  \n",
    "fig = plt.figure(figsize=(14,8))\n",
    "ax = fig.add_subplot(111)    \n",
    "ax.hist(result_list, bins=50)\n",
    "ax.hist([np.average(result_list)]*50, bins=50)\n",
    "plt.xlabel('Percentages [%]')\n",
    "plt.ylabel('Frequency')\n",
    "plt.show()\n",
    "print(\"The probability to hit your number is approximately ({0:.3f}\".format(np.average(result_list)) + \" +/- {0:.3f})%.\".format(stats.sem(result_list)))"
   ]
  }
 ],
 "metadata": {
  "kernelspec": {
   "display_name": "Python 3",
   "language": "python",
   "name": "python3"
  },
  "language_info": {
   "codemirror_mode": {
    "name": "ipython",
    "version": 3
   },
   "file_extension": ".py",
   "mimetype": "text/x-python",
   "name": "python",
   "nbconvert_exporter": "python",
   "pygments_lexer": "ipython3",
   "version": "3.7.4"
  }
 },
 "nbformat": 4,
 "nbformat_minor": 2
}
