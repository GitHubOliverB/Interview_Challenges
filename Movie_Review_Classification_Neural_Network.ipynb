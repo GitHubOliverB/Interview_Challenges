{
 "cells": [
  {
   "cell_type": "markdown",
   "metadata": {},
   "source": [
    "## Movie Review Classification - Neural Network\n",
    "Task:\n",
    "\n",
    "Write a neural network to classify movie reviews in good or bad.\n",
    "\n",
    "Assume the dataset to be clean and ready for usage."
   ]
  },
  {
   "cell_type": "code",
   "execution_count": 13,
   "metadata": {},
   "outputs": [],
   "source": [
    "from sklearn.metrics import classification_report, confusion_matrix\n",
    "import matplotlib.pyplot as plt\n",
    "from tensorflow import keras\n",
    "import numpy as np"
   ]
  },
  {
   "cell_type": "code",
   "execution_count": 14,
   "metadata": {},
   "outputs": [
    {
     "name": "stdout",
     "output_type": "stream",
     "text": [
      "[218, 189, 141, 550, 147, 43, 123, 562, 233, 130, 450, 99, 117, 238, 109, 129, 163, 752, 212, 177]\n"
     ]
    }
   ],
   "source": [
    "# save np.load\n",
    "np_load_old = np.load\n",
    "\n",
    "# modify the default parameters of np.load\n",
    "np.load = lambda *a,**k: np_load_old(*a, allow_pickle=True, **k)\n",
    "\n",
    "movie_review_data = keras.datasets.imdb\n",
    "\n",
    "(X_train, y_train_label), (X_test, y_test_label) = movie_review_data.load_data(num_words=10000)\n",
    "\n",
    "# restore np.load for future normal usage\n",
    "np.load = np_load_old\n",
    "\n",
    "word_index = movie_review_data.get_word_index()\n",
    "word_index = {k:(v + 3) for k, v in word_index.items()}\n",
    "word_index[\"<PAD>\"] = 0\n",
    "word_index[\"<START>\"] = 1\n",
    "word_index[\"<UNK>\"] = 2\n",
    "word_index[\"<UNUSED>\"] = 3\n",
    "\n",
    "id_to_word = {value: key for key, value in word_index.items()}\n",
    "\n",
    "review_lengths = [len(review) for review in X_train]\n",
    "\n",
    "print(review_lengths[0:20])"
   ]
  },
  {
   "cell_type": "markdown",
   "metadata": {},
   "source": [
    "Here we have a problem. The words per review is vastly different. If we plan to use the reviews as an input\n",
    "for our neural network, then we need them all to have the same shape. In order to safe some time, we will remove \n",
    "the top 10% (roughly) longest reviews based on the training set and add a padding for the remaining reviews to force that threshold length."
   ]
  },
  {
   "cell_type": "code",
   "execution_count": 15,
   "metadata": {},
   "outputs": [
    {
     "name": "stdout",
     "output_type": "stream",
     "text": [
      "0.10816\n"
     ]
    }
   ],
   "source": [
    "print(sum(map(lambda x : x>450, review_lengths))/len(review_lengths))\n",
    "\n",
    "X_train = keras.preprocessing.sequence.pad_sequences(X_train,\n",
    "                                                    value=word_index[\"<PAD>\"],\n",
    "                                                    padding=\"post\",\n",
    "                                                    maxlen=450)\n",
    "\n",
    "X_test = keras.preprocessing.sequence.pad_sequences(X_test,\n",
    "                                                    value=word_index[\"<PAD>\"],\n",
    "                                                    padding=\"post\",\n",
    "                                                    maxlen=450)\n",
    "\n",
    "X_val = X_train[:10000]\n",
    "X_train = X_train[10000:]\n",
    "\n",
    "y_val = y_train_label[:10000]\n",
    "y_train = y_train_label[10000:]\n",
    "\n",
    "def decode_movie_reviw(text):\n",
    "    return (' '.join([id_to_word.get(i, \"?\") for word in text]))"
   ]
  },
  {
   "cell_type": "code",
   "execution_count": 16,
   "metadata": {},
   "outputs": [],
   "source": [
    "def neural_network(epochs):\n",
    "    neural_network = keras.Sequential()\n",
    "    neural_network.add(keras.layers.Embedding(10000, 16))  # Input\n",
    "    neural_network.add(keras.layers.GlobalAveragePooling1D())\n",
    "    neural_network.add(keras.layers.Dense(32, activation=\"relu\"))\n",
    "    neural_network.add(keras.layers.Dense(1, activation=\"sigmoid\"))  # Output\n",
    "\n",
    "    neural_network.compile(optimizer='adam', loss='binary_crossentropy', metrics=['accuracy'])\n",
    "    fit_result = neural_network.fit(X_train,\n",
    "                        y_train,\n",
    "                        epochs=epochs,\n",
    "                        validation_data=(X_val, y_val),\n",
    "                        batch_size=150,\n",
    "                        verbose=False)\n",
    "    print(\"Training finished!\")\n",
    "    test_loss, test_acc = neural_network.evaluate(X_test, y_test_label)\n",
    "    neural_network_list.append(neural_network)\n",
    "    testing_acc_list.append(test_acc)\n",
    "    fit_result_list.append(fit_result)"
   ]
  },
  {
   "cell_type": "code",
   "execution_count": 17,
   "metadata": {},
   "outputs": [
    {
     "name": "stdout",
     "output_type": "stream",
     "text": [
      "Training finished!\n",
      "25000/25000 [==============================] - 1s 23us/sample - loss: 0.6932 - accuracy: 0.5000\n",
      "Training finished!\n",
      "25000/25000 [==============================] - 1s 21us/sample - loss: 0.6783 - accuracy: 0.7241\n",
      "Training finished!\n",
      "25000/25000 [==============================] - 1s 21us/sample - loss: 0.5990 - accuracy: 0.7716\n",
      "Training finished!\n",
      "25000/25000 [==============================] - 1s 21us/sample - loss: 0.4894 - accuracy: 0.8152\n",
      "Training finished!\n",
      "25000/25000 [==============================] - 1s 21us/sample - loss: 0.3918 - accuracy: 0.8563\n",
      "Training finished!\n",
      "25000/25000 [==============================] - 1s 21us/sample - loss: 0.3417 - accuracy: 0.8697\n",
      "Training finished!\n",
      "25000/25000 [==============================] - 1s 21us/sample - loss: 0.3218 - accuracy: 0.8738\n",
      "Training finished!\n",
      "25000/25000 [==============================] - 1s 21us/sample - loss: 0.3084 - accuracy: 0.8777\n",
      "Training finished!\n",
      "25000/25000 [==============================] - 1s 23us/sample - loss: 0.2997 - accuracy: 0.8783\n",
      "Training finished!\n",
      "25000/25000 [==============================] - 1s 21us/sample - loss: 0.3004 - accuracy: 0.8775\n",
      "Training finished!\n",
      "25000/25000 [==============================] - 1s 21us/sample - loss: 0.2942 - accuracy: 0.8834\n",
      "Training finished!\n",
      "25000/25000 [==============================] - 1s 21us/sample - loss: 0.2958 - accuracy: 0.8819\n",
      "Training finished!\n",
      "25000/25000 [==============================] - 1s 21us/sample - loss: 0.3102 - accuracy: 0.8779\n",
      "Training finished!\n",
      "25000/25000 [==============================] - 1s 21us/sample - loss: 0.2981 - accuracy: 0.8826\n",
      "Training finished!\n",
      "25000/25000 [==============================] - 1s 21us/sample - loss: 0.3001 - accuracy: 0.8819\n"
     ]
    }
   ],
   "source": [
    "testing_acc_list = []\n",
    "neural_network_list = []\n",
    "fit_result_list = []\n",
    "epoch_max = 15\n",
    "for epoch in range(epoch_max):\n",
    "    neural_network(epoch)"
   ]
  },
  {
   "cell_type": "code",
   "execution_count": 18,
   "metadata": {},
   "outputs": [
    {
     "name": "stdout",
     "output_type": "stream",
     "text": [
      "Classifictiation Report:\n",
      "\n",
      "              precision    recall  f1-score   support\n",
      "\n",
      "           0       0.89      0.88      0.88     12500\n",
      "           1       0.88      0.89      0.88     12500\n",
      "\n",
      "    accuracy                           0.88     25000\n",
      "   macro avg       0.88      0.88      0.88     25000\n",
      "weighted avg       0.88      0.88      0.88     25000\n",
      "\n",
      "Confusion Matrix:\n",
      "\n",
      "[[10988  1512]\n",
      " [ 1403 11097]]\n"
     ]
    },
    {
     "data": {
      "image/png": "[encoded data removed]",
      "text/plain": [
       "<Figure size 432x288 with 1 Axes>"
      ]
     },
     "metadata": {},
     "output_type": "display_data"
    }
   ],
   "source": [
    "max_test_acc_index = testing_acc_list.index(max(testing_acc_list))\n",
    "\n",
    "plt.style.use(\"ggplot\")\n",
    "plt.figure()\n",
    "plt.plot(np.arange(0, max_test_acc_index), fit_result_list[max_test_acc_index].history[\"loss\"], label=\"train_loss\")\n",
    "plt.plot(np.arange(0, max_test_acc_index), fit_result_list[max_test_acc_index].history[\"val_loss\"], label=\"val_loss\")\n",
    "plt.plot(np.arange(0, max_test_acc_index), fit_result_list[max_test_acc_index].history[\"accuracy\"], label=\"train_acc\")\n",
    "plt.plot(np.arange(0, max_test_acc_index), fit_result_list[max_test_acc_index].history[\"val_accuracy\"], label=\"val_acc\")\n",
    "plt.title(\"Training Loss and Accuracy on Dataset\")\n",
    "plt.xlabel(\"Epochs\")\n",
    "plt.ylabel(\"Loss/Accuracy\")\n",
    "plt.legend(loc=\"best\")\n",
    "figname = 'nn_epoch_test.png'\n",
    "plt.savefig(figname)\n",
    "\n",
    "y_predicted_proba = neural_network_list[max_test_acc_index].predict(X_test)\n",
    "y_predicted = [round(x[0]) for x in y_predicted_proba]\n",
    "\n",
    "print(\"Classifictiation Report:\\n\")\n",
    "print(classification_report(y_test_label, y_predicted))\n",
    "print(\"Confusion Matrix:\\n\")\n",
    "print(confusion_matrix(y_test_label, y_predicted))"
   ]
  }
 ],
 "metadata": {
  "kernelspec": {
   "display_name": "Python 3",
   "language": "python",
   "name": "python3"
  },
  "language_info": {
   "codemirror_mode": {
    "name": "ipython",
    "version": 3
   },
   "file_extension": ".py",
   "mimetype": "text/x-python",
   "name": "python",
   "nbconvert_exporter": "python",
   "pygments_lexer": "ipython3",
   "version": "3.7.4"
  }
 },
 "nbformat": 4,
 "nbformat_minor": 2
}
