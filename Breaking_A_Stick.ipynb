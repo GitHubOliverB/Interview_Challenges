{
 "cells": [
  {
   "cell_type": "markdown",
   "metadata": {},
   "source": [
    "# Breaking A Stick\n",
    "\n",
    "Today we want to break a stick of length $L$ in several ways and find out what the expected length of the longest piece, namely $\\mathbb{E}\\left[L_{\\text{max}}\\right]$, will be. \n",
    "\n",
    "## Problem 1:\n",
    "\n",
    "The stick is broken at a random spot $X$ in two pieces. What is the expected length of the longest and smallest piece?   \n",
    "\n",
    "## Problem 2:\n",
    "\n",
    "The stick is broken at two random spots $X$ and $Y$ in succession. What is the expected length of the longest, smallest and the middle piece? \n",
    "\n",
    "## Problem 3:\n",
    "\n",
    "The stick is broken at two random spots $X$ and $Y$ simultaneously. What is the expected length of the longest, smallest and the middle piece? \n"
   ]
  },
  {
   "cell_type": "markdown",
   "metadata": {},
   "source": [
    "### Solution to problem 1:\n",
    "\n",
    "If we break a stick once at a random spot $X$, we end up with two pieces of length $X$ and $1-X$.\n",
    "Given that the spot $X$ is a random variable following a uniform distribution, so $X\\sim U\\left(0,L\\right)$ and that the longest piece is of length $L_{\\text{max}} = \\max\\left(X, L-X\\right)$, we are able to find the expected length. As for $L_{\\text{max}}$, you may also write:\n",
    "\n",
    "\\begin{equation}\n",
    "L_{\\text{max}} = \n",
    "\\begin{cases}\n",
    "L-X &\\text{$X < \\frac{L}{2}$} \\\\\n",
    "X &\\text{$X \\ge \\frac{L}{2}$}\n",
    "\\end{cases}\n",
    "\\end{equation}\n",
    "\n",
    "In our case, the probability density function $f_{U}$ must satisfy:\n",
    "\n",
    "\\begin{equation}\n",
    "1 = \\int_{0}^{L} f_{U} dx = f_{U} \\int_{0}^{L} dx = f_{U} \\cdot L\n",
    "\\end{equation}\n",
    "\n",
    "Hence $f_{U} = \\frac{1}{L}$ and from there we can work out the expected length of the longest piece after breaking the stick one time:\n",
    "\n",
    "\\begin{equation}\n",
    "\\mathbb{E}\\left[L_{\\text{max}}\\right] \n",
    "= \\int_{0}^{L} f_{U}\\cdot L_{\\text{max}} dL_{\\text{max}} \n",
    "= \\frac{1}{L}\\left(\\int_{0}^{\\frac{L}{2}} \\left(L-x\\right)dx + \\int_{\\frac{L}{2}}^{L} xdx\\right) \n",
    "= \\frac{1}{L}\\left(\\left[Lx-\\frac{1}{2}x^{2}\\right]_{0}^{\\frac{L}{2}} + \\left[\\frac{1}{2}x^{2}\\right]_{\\frac{L}{2}}^{L}\\right) \n",
    "= \\frac{1}{L}\\left(\\frac{L^{2}}{2} - \\frac{L^{2}}{8} + \\frac{L^{2}}{2} - \\frac{L^{2}}{8}\\right) \n",
    "= \\frac{3}{4}\\cdot L\n",
    "\\end{equation}\n",
    "\n",
    "So the __expected lengths of the longer piece is $3/4$ of the length of the original stick__.\n",
    "Thus the __expected lengths of the smaller piece is $1/4$ of the length of the original stick__.\n",
    "\n",
    "Now let's also have a look at the variance $\\textit{Var}\\left[L_{\\text{max}}\\right]$ and standard deviation $\\sigma_{L_{\\text{max}}}$ for the length of the longer piece.\n",
    "\n",
    "We can find the variance by computing:\n",
    "\n",
    "\\begin{equation}\n",
    "\\textit{Var}\\left[L_{\\text{max}}\\right] = \\mathbb{E}\\left[L^{2}_{\\text{max}}\\right] - \\left(\\mathbb{E}\\left[L_{\\text{max}}\\right]\\right)^{2}\n",
    "\\end{equation}\n",
    "\n",
    "Since we already have $\\mathbb{E}\\left[L_{\\text{max}}\\right]$, we will simply compute $\\mathbb{E}\\left[L^{2}_{\\text{max}}\\right]$:\n",
    "\n",
    "\\begin{equation}\n",
    "\\mathbb{E}\\left[L^{2}_{\\text{max}}\\right] \n",
    "= \\int_{0}^{L} f_{U}\\cdot L^{2}_{\\text{max}} dL_{\\text{max}} \n",
    "= \\frac{1}{L}\\left(\\int_{0}^{\\frac{L}{2}} \\left(L-x\\right)^{2}dx + \\int_{\\frac{L}{2}}^{L} x^{2}dx\\right) \n",
    "= \\frac{1}{L}\\left(\\left[-\\frac{1}{3}\\left(L-x\\right)^{3}\\right]_{0}^{\\frac{L}{2}} + \\left[\\frac{1}{3}x^{3}\\right]_{\\frac{L}{2}}^{L}\\right)\n",
    "= \\frac{1}{L}\\left(-\\frac{L^{3}}{24} + \\frac{L^{3}}{3} + \\frac{L^{3}}{3} - \\frac{L^{3}}{24}\\right) \n",
    "= \\frac{7}{12}\\cdot L^{2}\n",
    "\\end{equation}\n",
    "\n",
    "So it follows:\n",
    "\n",
    "\\begin{equation}\n",
    "\\textit{Var}\\left[L_{\\text{max}}\\right] \n",
    "= \\frac{7}{12}\\cdot L^{2} - \\left(\\frac{3}{4}\\cdot L\\right)^{2} \n",
    "= \\frac{7}{12}\\cdot L^{2} - \\frac{9}{16}\\cdot L^{2} \n",
    "= \\frac{1}{48}\\cdot L^{2}\n",
    "= 0.0208\\bar{3} \\cdot L^{2}\n",
    "\\end{equation}\n",
    "\n",
    "And as for the standard variance we find:\n",
    "\n",
    "\\begin{equation}\n",
    "\\sigma_{L_{\\text{max}}} \n",
    "= \\sqrt{\\textit{Var}\\left[L_{\\text{max}}\\right]}\n",
    "= \\frac{1}{\\sqrt{48}}\\cdot L\n",
    "\\approx 0.144\\cdot L\n",
    "\\end{equation}\n",
    "\n",
    "Let's compare that to a small simulation."
   ]
  },
  {
   "cell_type": "code",
   "execution_count": 17,
   "metadata": {},
   "outputs": [],
   "source": [
    "import random\n",
    "import numpy as np"
   ]
  },
  {
   "cell_type": "code",
   "execution_count": 24,
   "metadata": {},
   "outputs": [
    {
     "name": "stdout",
     "output_type": "stream",
     "text": [
      "Average unit length of the longer piece: 0.750\n",
      "Average unit length of the smaller piece: 0.250\n",
      "Standard deviation of the unit length for the longer piece: 0.144\n",
      "Standard deviation of the unit length for the smaller piece: 0.144\n"
     ]
    }
   ],
   "source": [
    "measurements = 10**6\n",
    "x_list = [random.uniform(0, 1) for _ in range(measurements)]\n",
    "max_length_list = [max(length, 1-length) for length in x_list]\n",
    "min_length_list = [min(length, 1-length) for length in x_list]\n",
    "print(\"Average unit length of the longer piece: {0:.3f}\".format(np.mean(max_length_list)))\n",
    "print(\"Average unit length of the smaller piece: {0:.3f}\".format(np.mean(min_length_list)))\n",
    "print(\"Standard deviation of the unit length for the longer piece: {0:.3f}\".format(np.std(max_length_list)))\n",
    "print(\"Standard deviation of the unit length for the smaller piece: {0:.3f}\".format(np.std(min_length_list)))"
   ]
  },
  {
   "cell_type": "markdown",
   "metadata": {},
   "source": [
    "As we can see, we can both find the values for the longer and smaller stick from our calculation. On to the next problem!"
   ]
  },
  {
   "cell_type": "code",
   "execution_count": null,
   "metadata": {},
   "outputs": [],
   "source": []
  }
 ],
 "metadata": {
  "kernelspec": {
   "display_name": "Python 3",
   "language": "python",
   "name": "python3"
  },
  "language_info": {
   "codemirror_mode": {
    "name": "ipython",
    "version": 3
   },
   "file_extension": ".py",
   "mimetype": "text/x-python",
   "name": "python",
   "nbconvert_exporter": "python",
   "pygments_lexer": "ipython3",
   "version": "3.7.4"
  }
 },
 "nbformat": 4,
 "nbformat_minor": 4
}
