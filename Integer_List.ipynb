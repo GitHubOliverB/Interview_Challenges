{
 "cells": [
  {
   "cell_type": "markdown",
   "metadata": {},
   "source": [
    "## Integer List Problem - Find the smallest positive integer not in the list\n",
    "\n",
    "__Problem:__\n",
    "\n",
    "You are given a list of integers of any length. The integers may be positive or negative. Find the smallest positive interger which is not in the list."
   ]
  },
  {
   "cell_type": "code",
   "execution_count": 5,
   "metadata": {},
   "outputs": [
    {
     "data": {
      "text/plain": [
       "4"
      ]
     },
     "execution_count": 5,
     "metadata": {},
     "output_type": "execute_result"
    }
   ],
   "source": [
    "def solution(A):\n",
    "    my_list = [element for element in A if element > 0]\n",
    "    if len(my_list) == 0:\n",
    "        return 1\n",
    "    elif len(my_list) == 1:\n",
    "        if my_list[0] != 1:\n",
    "            return 1\n",
    "        else:\n",
    "            return 2\n",
    "    elif ((len(my_list) > 0) & (min(my_list) != 1)):\n",
    "        return 1\n",
    "    my_list.sort()\n",
    "    for ind in range(len(my_list)-1):\n",
    "        diff = my_list[ind+1] - my_list[ind]\n",
    "        if diff > 1:\n",
    "            return (my_list[ind]+1)\n",
    "        else:\n",
    "            pass\n",
    "    return my_list[-1]+1\n",
    "\n",
    "A=[-1, 1, 2, 3]\n",
    "solution(A)"
   ]
  }
 ],
 "metadata": {
  "kernelspec": {
   "display_name": "Python 3",
   "language": "python",
   "name": "python3"
  },
  "language_info": {
   "codemirror_mode": {
    "name": "ipython",
    "version": 3
   },
   "file_extension": ".py",
   "mimetype": "text/x-python",
   "name": "python",
   "nbconvert_exporter": "python",
   "pygments_lexer": "ipython3",
   "version": "3.7.4"
  }
 },
 "nbformat": 4,
 "nbformat_minor": 2
}
