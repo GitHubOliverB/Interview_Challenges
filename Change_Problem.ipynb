{
 "cells": [
  {
   "cell_type": "markdown",
   "metadata": {},
   "source": [
    "## Change Problem - How Many Coins?\n",
    "\n",
    "Task 1:\n",
    "\n",
    "Compute the change. Make sure the price is covered by the customer. Make a restriction for too large changes."
   ]
  },
  {
   "cell_type": "code",
   "execution_count": 2,
   "metadata": {},
   "outputs": [],
   "source": [
    "# Basic Python Libs\n",
    "import numpy as np\n",
    "import math"
   ]
  },
  {
   "cell_type": "code",
   "execution_count": 3,
   "metadata": {},
   "outputs": [],
   "source": [
    "def round_up(n, decimals=0):\n",
    "    multiplier = 10 ** decimals\n",
    "    return math.ceil(n * multiplier) / multiplier"
   ]
  },
  {
   "cell_type": "code",
   "execution_count": 4,
   "metadata": {},
   "outputs": [
    {
     "name": "stdout",
     "output_type": "stream",
     "text": [
      "Your change is 0.18€.\n",
      "0.18\n"
     ]
    }
   ],
   "source": [
    "def change_amount(price, payment):\n",
    "    if price < 0:\n",
    "        print(\"You don't have to pay anything. Your change is {0:.2f}€.\".format(price*(-1)))\n",
    "        return (round(price*(-1), 2))\n",
    "    elif price == payment:\n",
    "        print(\"Thanks for buying at ... .\")\n",
    "        return 0\n",
    "    elif price > payment:\n",
    "        print(\"Please pay the full price. You still need to cover {0:.2f}€.\".format(price-payment))\n",
    "        return round(payment-price, 2)\n",
    "    elif price < payment - 50.00:\n",
    "        print(\"Your change would be {0:.2f}€.\".format(payment-price))\n",
    "        print(\"Sorry. I can't change that. Do you have a smaller bill?\")\n",
    "        return round(price*(-1), 2)\n",
    "    else :\n",
    "        print(\"Your change is {0:.2f}€.\".format(payment-price))\n",
    "        return round(payment-price, 2)\n",
    "    \n",
    "# Run test:\n",
    "print(change_amount(2.62, 2.80))"
   ]
  },
  {
   "cell_type": "markdown",
   "metadata": {},
   "source": [
    "Task 2:\n",
    "\n",
    "Now implement a smart change system."
   ]
  },
  {
   "cell_type": "code",
   "execution_count": 5,
   "metadata": {},
   "outputs": [
    {
     "name": "stdout",
     "output_type": "stream",
     "text": [
      "Your change is 0.68€.\n",
      "I'm sorry, but I'm running low on coins right now. Can you maybe add 0.02€, so we have a nice round change?\n"
     ]
    },
    {
     "data": {
      "text/plain": [
       "0.7"
      ]
     },
     "execution_count": 5,
     "metadata": {},
     "output_type": "execute_result"
    }
   ],
   "source": [
    "def smart_change(price, payment):\n",
    "    if price == payment:\n",
    "        return 0\n",
    "    change = change_amount(price, payment)\n",
    "    if change > 0.05:\n",
    "        smart_addition = round(round_up(change, 1) - change, 2)\n",
    "        print(\"I'm sorry, but I'm running low on coins right now. \" +\n",
    "              \"Can you maybe add {0:.2f}€, so we have a nice round change?\".format(smart_addition))\n",
    "        return round(payment+smart_addition-price, 2)\n",
    "    else:\n",
    "        return change\n",
    "    \n",
    "smart_change(2.32, 3.00)"
   ]
  },
  {
   "cell_type": "markdown",
   "metadata": {},
   "source": [
    "Task 3:\n",
    "\n",
    "\n",
    "Find the minimal number of coins for the change."
   ]
  },
  {
   "cell_type": "code",
   "execution_count": 6,
   "metadata": {},
   "outputs": [
    {
     "name": "stdout",
     "output_type": "stream",
     "text": [
      "Your change was rounded to the nearest possible change.\n",
      "Your change consists of:\n",
      "68x 2.00€.\n",
      "1x 1.00€.\n",
      "1x 0.50€.\n",
      "1x 0.20€.\n",
      "1x 0.02€.\n",
      "1x 0.01€.\n"
     ]
    },
    {
     "data": {
      "text/plain": [
       "73.0"
      ]
     },
     "execution_count": 6,
     "metadata": {},
     "output_type": "execute_result"
    }
   ],
   "source": [
    "coins = [2.00, 1.00, 0.50, 0.20, 0.10, 0.05, 0.02, 0.01]\n",
    "\n",
    "def change_coins(change):\n",
    "    change_coin_list = []\n",
    "    change = round(change, 2)\n",
    "    print(\"Your change was rounded to the nearest possible change.\")\n",
    "    if change < 0.01:\n",
    "        return 0\n",
    "    elif change < 0.02:\n",
    "        return round(change/0.01, 2)\n",
    "    else:\n",
    "        for index, coin in enumerate(coins):\n",
    "            if round(coin, 2) > round(change, 2):\n",
    "                change_coin_list.append(0)\n",
    "            else:\n",
    "                change_coin_list.append(round((change - change % coin)/coin, 0))\n",
    "                change = round(change % coin, 2)\n",
    "    print(\"Your change consists of:\")\n",
    "    for index, change_coin in enumerate(change_coin_list):\n",
    "        if change_coin > 0:\n",
    "            print(\"{:.0f}x {:.2f}€.\".format(change_coin, coins[index]))\n",
    "    return sum(change_coin_list)\n",
    "\n",
    "change_coins(137.73)"
   ]
  },
  {
   "cell_type": "markdown",
   "metadata": {},
   "source": [
    "Task 4:\n",
    "\n",
    "You have a limited number of coins to work with."
   ]
  },
  {
   "cell_type": "code",
   "execution_count": 83,
   "metadata": {},
   "outputs": [
    {
     "name": "stdout",
     "output_type": "stream",
     "text": [
      "Your change was rounded to the nearest possible change.\n",
      "I'm sorry, but I'm missing 0.04€ in coins.\n",
      "The rest of your change consists of:\n",
      "1x 0.50€.\n",
      "1x 0.20€.\n",
      "2x 0.10€.\n"
     ]
    },
    {
     "data": {
      "text/plain": [
       "4.0"
      ]
     },
     "execution_count": 83,
     "metadata": {},
     "output_type": "execute_result"
    }
   ],
   "source": [
    "coins = np.array([2.00, 1.00, 0.50, 0.20, 0.10, 0.05, 0.02, 0.01])\n",
    "coins_limit = np.array([10, 10, 1, 1, 3, 0, 0, 0])\n",
    "\n",
    "\n",
    "def change_coins(change):\n",
    "    change_coin_list = []\n",
    "    coins_limit_list = []\n",
    "    change = round(change, 2)\n",
    "    change_string = str(change)\n",
    "    if change > sum(coins*coins_limit):\n",
    "        print(\"I'm sorry, but I'm out of change.\")\n",
    "    else:\n",
    "        print(\"Your change was rounded to the nearest possible change.\")\n",
    "        if change < 0.01:\n",
    "            return 0\n",
    "        elif change < 0.02:\n",
    "            if coins_limit[-1] > 0:\n",
    "                return round(change/0.01, 2)\n",
    "            else:\n",
    "                print(\"Your change would be 1x {:.2f}€.\" +\n",
    "                \" I'm out of 1 cents though. Can you change my 2 cents?\".format(coins[-1]))\n",
    "        else:\n",
    "            for index, coin in enumerate(coins):\n",
    "                if round(coin, 2) > round(change, 2):\n",
    "                    change_coin_list.append(0)\n",
    "                else:\n",
    "                    NoC = round((change - change % coin)/coin, 0)\n",
    "                    if NoC <= coins_limit[index]:\n",
    "                        change_coin_list.append(NoC)\n",
    "                        change = round(change % coin, 2)\n",
    "                    else:\n",
    "                        change_coin_list.append(coins_limit[index])\n",
    "                        change = round(change - coins_limit[index]*coins[index], 2)\n",
    "            if change > 0:\n",
    "                print(\"I'm sorry, but I'm missing {:.2f}€ in coins.\".format(change))\n",
    "                print(\"The rest of your change consists of:\")\n",
    "                for index, change_coin in enumerate(change_coin_list):\n",
    "                    if change_coin > 0:\n",
    "                        print(\"{:.0f}x {:.2f}€.\".format(change_coin, coins[index]))\n",
    "            else:\n",
    "                print(\"Your change consists of:\")\n",
    "                for index, change_coin in enumerate(change_coin_list):\n",
    "                    if change_coin > 0:\n",
    "                        print(\"{:.0f}x {:.2f}€.\".format(change_coin, coins[index]))\n",
    "    return sum(change_coin_list)\n",
    "\n",
    "change_coins(0.94)"
   ]
  }
 ],
 "metadata": {
  "kernelspec": {
   "display_name": "Python 3",
   "language": "python",
   "name": "python3"
  },
  "language_info": {
   "codemirror_mode": {
    "name": "ipython",
    "version": 3
   },
   "file_extension": ".py",
   "mimetype": "text/x-python",
   "name": "python",
   "nbconvert_exporter": "python",
   "pygments_lexer": "ipython3",
   "version": "3.7.4"
  }
 },
 "nbformat": 4,
 "nbformat_minor": 2
}
