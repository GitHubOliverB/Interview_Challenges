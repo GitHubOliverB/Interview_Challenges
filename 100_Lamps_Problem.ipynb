{
 "cells": [
  {
   "cell_type": "markdown",
   "metadata": {},
   "source": [
    "## 100 Lamps Problem - On or Off?\n",
    "__Problem:__\n",
    "\n",
    "You have a room with 100 numbered lamps from 1 to 100. All lamps are switchted off. If the switch is activated while the lamp if off, it will be turned on. If the lamp is on and the switch is actiavted, it will be turned off.\n",
    "\n",
    "You also have 100 numbered persons from 1 too 100 in an other room. \n",
    "\n",
    "Now all person will form a queue and go inside the room one by one starting with person *1* and ending with person *100*. Each person shall activate the switch by the following rule:\n",
    "\n",
    "__Person *1*__ operates __all lamps__.  \n",
    "__Person *2*__ operates __every second lamp__.  \n",
    "__Person *3*__ operates __every third lamp__.  \n",
    "...  \n",
    "__Person *100*__ operates __every 100th lamp__.\n",
    "\n",
    "__Task:__\n",
    "\n",
    "How many lamps are turned on? Which are turned on/off?"
   ]
  },
  {
   "cell_type": "code",
   "execution_count": 20,
   "metadata": {},
   "outputs": [],
   "source": [
    "# Basic Python Libs\n",
    "import numpy as np\n",
    "import math"
   ]
  },
  {
   "cell_type": "markdown",
   "metadata": {},
   "source": [
    "Since we have started with all lamps off, we know that if an odd number of people operated the switch on the lamp, the lamp will be on. For an even number of people, the lamp will be off. We can represent the state of the lamp using a binary system: {'ON': 1, 'OFF': -1}\n",
    "\n",
    "With the sum over all persons who operated the switch as $\\sum{N_{person}}$, the state of the lamp is given by:     $\\left(-1\\right)^{\\left(1+\\sum{N_{person}}\\right)}$\n",
    "\n",
    "In order to find the number of persons who operated the switch, we simply need to find the divisors of the number of the lamp."
   ]
  },
  {
   "cell_type": "code",
   "execution_count": 40,
   "metadata": {},
   "outputs": [
    {
     "name": "stdout",
     "output_type": "stream",
     "text": [
      "10x lamps are turned ON.\n",
      "{1: 'ON', 2: 'OFF', 3: 'OFF', 4: 'ON', 5: 'OFF', 6: 'OFF', 7: 'OFF', 8: 'OFF', 9: 'ON', 10: 'OFF', 11: 'OFF', 12: 'OFF', 13: 'OFF', 14: 'OFF', 15: 'OFF', 16: 'ON', 17: 'OFF', 18: 'OFF', 19: 'OFF', 20: 'OFF', 21: 'OFF', 22: 'OFF', 23: 'OFF', 24: 'OFF', 25: 'ON', 26: 'OFF', 27: 'OFF', 28: 'OFF', 29: 'OFF', 30: 'OFF', 31: 'OFF', 32: 'OFF', 33: 'OFF', 34: 'OFF', 35: 'OFF', 36: 'ON', 37: 'OFF', 38: 'OFF', 39: 'OFF', 40: 'OFF', 41: 'OFF', 42: 'OFF', 43: 'OFF', 44: 'OFF', 45: 'OFF', 46: 'OFF', 47: 'OFF', 48: 'OFF', 49: 'ON', 50: 'OFF', 51: 'OFF', 52: 'OFF', 53: 'OFF', 54: 'OFF', 55: 'OFF', 56: 'OFF', 57: 'OFF', 58: 'OFF', 59: 'OFF', 60: 'OFF', 61: 'OFF', 62: 'OFF', 63: 'OFF', 64: 'ON', 65: 'OFF', 66: 'OFF', 67: 'OFF', 68: 'OFF', 69: 'OFF', 70: 'OFF', 71: 'OFF', 72: 'OFF', 73: 'OFF', 74: 'OFF', 75: 'OFF', 76: 'OFF', 77: 'OFF', 78: 'OFF', 79: 'OFF', 80: 'OFF', 81: 'ON', 82: 'OFF', 83: 'OFF', 84: 'OFF', 85: 'OFF', 86: 'OFF', 87: 'OFF', 88: 'OFF', 89: 'OFF', 90: 'OFF', 91: 'OFF', 92: 'OFF', 93: 'OFF', 94: 'OFF', 95: 'OFF', 96: 'OFF', 97: 'OFF', 98: 'OFF', 99: 'OFF', 100: 'ON'}\n"
     ]
    }
   ],
   "source": [
    "def divisors(n):\n",
    "    divs = [1]\n",
    "    for i in range(2, int(math.sqrt(n))+1):\n",
    "        if n % i == 0:\n",
    "            divs.extend([i, n/i])\n",
    "    divs.extend([n])\n",
    "    return sorted(list(set(divs)))\n",
    "\n",
    "def lamp_state(n):\n",
    "    divisor_list = divisors(n)\n",
    "    return (-1)**(len(divisor_list)+1)\n",
    "\n",
    "lamp_dict = {}\n",
    "lamps = range(1,101)\n",
    "ON_counter = 0\n",
    "for lamp in lamps:\n",
    "    lamp_state_N = lamp_state(lamp)\n",
    "    if lamp_state_N == -1:\n",
    "        lamp_dict[lamp] = \"OFF\"\n",
    "    if lamp_state_N == 1:\n",
    "        lamp_dict[lamp] = \"ON\"\n",
    "        ON_counter += 1\n",
    "        \n",
    "print(\"{}x lamps are turned ON.\".format(ON_counter))\n",
    "print(lamp_dict)"
   ]
  }
 ],
 "metadata": {
  "kernelspec": {
   "display_name": "Python 3",
   "language": "python",
   "name": "python3"
  },
  "language_info": {
   "codemirror_mode": {
    "name": "ipython",
    "version": 3
   },
   "file_extension": ".py",
   "mimetype": "text/x-python",
   "name": "python",
   "nbconvert_exporter": "python",
   "pygments_lexer": "ipython3",
   "version": "3.7.4"
  }
 },
 "nbformat": 4,
 "nbformat_minor": 2
}
