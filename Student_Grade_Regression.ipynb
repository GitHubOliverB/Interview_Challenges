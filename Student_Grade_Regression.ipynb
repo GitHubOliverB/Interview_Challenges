{
 "cells": [
  {
   "cell_type": "markdown",
   "metadata": {},
   "source": [
    "## Regression of final grades\n",
    "Task:\n",
    "\n",
    "Write a linear regression algorithmen for the final grades of students.\n",
    "\n",
    "Assume the dataset to be clean and ready for usage."
   ]
  },
  {
   "cell_type": "code",
   "execution_count": 1,
   "metadata": {},
   "outputs": [],
   "source": [
    "import pandas as pd\n",
    "import numpy as np\n",
    "from scipy import stats\n",
    "import sklearn\n",
    "from sklearn import linear_model\n",
    "import statsmodels.api as sm\n",
    "import matplotlib.pyplot as plt\n",
    "import pickle\n",
    "from matplotlib import style"
   ]
  },
  {
   "cell_type": "code",
   "execution_count": 2,
   "metadata": {},
   "outputs": [
    {
     "name": "stdout",
     "output_type": "stream",
     "text": [
      "Accuracy: 0.836\n",
      "                                 OLS Regression Results                                \n",
      "=======================================================================================\n",
      "Dep. Variable:                      y   R-squared (uncentered):                   0.969\n",
      "Model:                            OLS   Adj. R-squared (uncentered):              0.969\n",
      "Method:                 Least Squares   F-statistic:                              4266.\n",
      "Date:                Fri, 07 Feb 2020   Prob (F-statistic):                   3.43e-207\n",
      "Time:                        06:46:23   Log-Likelihood:                         -582.01\n",
      "No. Observations:                 276   AIC:                                      1168.\n",
      "Df Residuals:                     274   BIC:                                      1175.\n",
      "Df Model:                           2                                                  \n",
      "Covariance Type:            nonrobust                                                  \n",
      "==============================================================================\n",
      "                 coef    std err          t      P>|t|      [0.025      0.975]\n",
      "------------------------------------------------------------------------------\n",
      "x1             0.9949      0.011     89.083      0.000       0.973       1.017\n",
      "x2            -0.4265      0.153     -2.795      0.006      -0.727      -0.126\n",
      "==============================================================================\n",
      "Omnibus:                      186.883   Durbin-Watson:                   2.123\n",
      "Prob(Omnibus):                  0.000   Jarque-Bera (JB):             1373.428\n",
      "Skew:                          -2.832   Prob(JB):                    5.81e-299\n",
      "Kurtosis:                      12.346   Cond. No.                         14.3\n",
      "==============================================================================\n",
      "\n",
      "Warnings:\n",
      "[1] Standard Errors assume that the covariance matrix of the errors is correctly specified.\n"
     ]
    },
    {
     "data": {
      "image/png": "[encoded data removed]",
      "text/plain": [
       "<Figure size 432x288 with 1 Axes>"
      ]
     },
     "metadata": {},
     "output_type": "display_data"
    }
   ],
   "source": [
    "df = pd.read_csv('data\\\\student-mat.csv', delimiter=';')\n",
    "\n",
    "feature_list = ['G1', 'G2', 'G3', 'studytime', 'failures', 'absences', 'sex', 'internet', 'Pstatus']\n",
    "train_list = ['G2', 'failures']\n",
    "target_feature = 'G3'\n",
    "\n",
    "df = df[feature_list]\n",
    "df = pd.get_dummies(df, drop_first=True)\n",
    "\n",
    "X = np.array(df[train_list])\n",
    "y = np.array(df[target_feature])\n",
    "\n",
    "X_train, X_test, y_train, y_test = sklearn.model_selection.train_test_split(X, y, test_size=0.3)\n",
    "\n",
    "model_skl = linear_model.LinearRegression(fit_intercept=False)\n",
    "model_skl.fit(X_train, y_train)\n",
    "params = np.append(model_skl.intercept_, model_skl.coef_)\n",
    "predictions_skl = model_skl.predict(X_test)\n",
    "acc_skl = model_skl.score(X_test, y_test)\n",
    "print(\"Accuracy: {0:.3f}\".format(acc_skl))\n",
    "\n",
    "# Same model in statsmodels\n",
    "model_sm = sm.OLS(y_train, X_train).fit()\n",
    "predictions_sm = model_sm.predict(X_test)\n",
    "print(model_sm.summary())\n",
    "with open(\"student_model.pickle\", \"wb\") as f:\n",
    "    pickle.dump(model_sm, f)\n",
    "\n",
    "pickle_in = open(\"student_model.pickle\", \"rb\")\n",
    "loaded_model_sm = pickle.load(pickle_in)\n",
    "\n",
    "style.use(\"ggplot\")\n",
    "plot_feature = 'G2'\n",
    "plt.scatter(df[plot_feature], df[target_feature])\n",
    "plt.xlabel(plot_feature)\n",
    "plt.ylabel('Final Grade')\n",
    "plt.savefig(''.join([plot_feature,'_scatterplot.png']))\n",
    "plt.show()"
   ]
  }
 ],
 "metadata": {
  "kernelspec": {
   "display_name": "Python 3",
   "language": "python",
   "name": "python3"
  },
  "language_info": {
   "codemirror_mode": {
    "name": "ipython",
    "version": 3
   },
   "file_extension": ".py",
   "mimetype": "text/x-python",
   "name": "python",
   "nbconvert_exporter": "python",
   "pygments_lexer": "ipython3",
   "version": "3.7.4"
  }
 },
 "nbformat": 4,
 "nbformat_minor": 2
}
