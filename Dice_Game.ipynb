{
 "cells": [
  {
   "cell_type": "markdown",
   "metadata": {},
   "source": [
    "# Dice Games\n",
    "Solve this problem mathematically and also demonstrate a solution using code.\n",
    "\n",
    "Alice and Bob play a simple dice game. They take turns rolling a single die, starting with Alice, until one of them wins by getting a $6$. In the end it turns out that Bob won. What is the probability that he won on his ﬁrst roll? "
   ]
  },
  {
   "cell_type": "code",
   "execution_count": null,
   "metadata": {},
   "outputs": [],
   "source": [
    "# Basic Python Libs\n",
    "import numpy as np\n",
    "import math\n",
    "import random"
   ]
  },
  {
   "cell_type": "markdown",
   "metadata": {},
   "source": [
    "Given that this is a fair 6-sided dice, the chance to hitting a number $N\\in\\left[1,6\\right]$ is simply given by $P\\left(N=i\\right)=\\frac{1}{6}$. In order for Bob to get this first roll, Alice musn't win the game by rolling a $6$. The chance for Alice to not role a $6$ is given by $\\frac{5}{6}$. Let $P_{K}\\left(S_{i}=W | S_{j}=L\\right)$ be the probability that player $S_i$ won the game while player $S_j$ lost the game on round $K$.\n",
    "\n",
    "Since the two rolls are independent from another, the chance to win the first roll for Bob is given by $P_{1}$:\n",
    "\n",
    "\\begin{equation}\n",
    "\\begin{split}\n",
    "P_{K=1}\\left(B=W | A=L\\right) &=&\\, P_1\\left(B=W\\right)\\cdot P\\left(A=L\\right) \\\\\n",
    "&=&\\, \\frac{1}{6}\\cdot \\frac{5}{6} \\\\\n",
    "&=&\\, \\frac{5}{36}\\\\\n",
    "\\end{split}\n",
    "\\end{equation}\n",
    "\n",
    "If we ask what the probability for either of them is winning at round $K$, then the answer for that is given by:\n",
    "\n",
    "\\begin{equation}\n",
    "\\begin{split}\n",
    "P_{K}\\left(B=W | A=L\\right) &=&\\, P_1\\left(B=W\\right)\\cdot P\\left(A=L\\right) \\\\\n",
    "&=&\\, \\frac{1}{6}\\cdot \\frac{5}{6} \\\\\n",
    "&=&\\, \\frac{5}{36}\\\\\n",
    "\\end{split}\n",
    "\\end{equation}\n",
    "\n",
    "However, since we know that Bob has definitely won the game, this can't be the anwser! Say $P\\left(B=W | A=L\\right)$ is the probability that Bob won the game and $P\\left(A=W | B=L\\right)$ is the probability that Alice won the game. Let's keep it simple with dropping the information about the losing player. Then it is known that they must add up to $1$:\n",
    "\n",
    "\\begin{equation}\n",
    "1 = P\\left(A=W\\right) + P\\left(B=W\\right)\n",
    "\\end{equation}\n",
    "\n",
    "We know that Bob has won the game, so given that information, we must set $P\\left(A=W\\right)=0$. In order to find our answer, we now must find $P\\left(B=W\\right)$ and normalize it so that our probability is conserved.\n",
    "\n",
    "We can compute $P\\left(B=W\\right)$ by summing up all $P_{K}\\left(B=W|A=L\\right)$ for all rounds $K$:\n",
    "\n",
    "\\begin{equation}\n",
    "\\begin{split}\n",
    "P\\left(B=W\\right) &=&\\, \\sum_{K=1}^{\\infty}P_{K}\\left(B=W|A=L\\right) \\\\\n",
    "&=&\\, \\sum_{K=1}^{\\infty}\\frac{1}{6}\\cdot\\left(\\frac{5}{6}\\right)^{2\\cdot K -1} \\\\\n",
    "&=&\\, \\frac{1}{6}\\cdot\\sum_{K=1}^{\\infty}\\left(\\frac{5}{6}\\right)^{2\\cdot K -1}\n",
    "\\end{split}\n",
    "\\end{equation}\n",
    "\n",
    "Let's figure out the series:\n",
    "\n",
    "\\begin{equation}\n",
    "\\begin{split}\n",
    "\\sum_{K=1}^{\\infty}\\left(\\frac{5}{6}\\right)^{2\\cdot K -1} &=&\\,\\sum_{K=1}^{\\infty}\\left(\\frac{5}{6}\\right)^{2\\cdot K}\\cdot\\left(\\frac{5}{6}\\right)^{-1} \\\\\n",
    "&=&\\,\\frac{6}{5}\\cdot\\sum_{K=1}^{\\infty}\\left(\\frac{5}{6}\\right)^{2\\cdot K} \\\\\n",
    "&=&\\,-\\frac{6}{5}+\\frac{6}{5}\\cdot\\sum_{K=0}^{\\infty}\\left(\\frac{5}{6}\\right)^{2\\cdot K} \\\\\n",
    "&=&\\,-\\frac{6}{5}+\\frac{6}{5}\\cdot\\sum_{K=0}^{\\infty}\\left(\\frac{5}{6}\\right)^{2\\cdot K} \\\\\n",
    "&=&\\,-\\frac{6}{5}+\\frac{6}{5}\\cdot\\sum_{K=0}^{\\infty}\\left(\\left(\\frac{5}{6}\\right)^{2}\\right)^{K} \\\\\n",
    "&=&\\,-\\frac{6}{5}+\\frac{6}{5}\\cdot\\sum_{K=0}^{\\infty}\\left(\\frac{25}{36}\\right)^{K} \\\\\n",
    "&=&\\,-\\frac{6}{5}+\\frac{6}{5}\\cdot\\frac{1}{1-\\frac{25}{36}} \\\\\n",
    "&=&\\,-\\frac{6}{5} + \\frac{6}{5\\cdot\\frac{11}{36}} \\\\\n",
    "&=&\\,-\\frac{66}{55} + \\frac{216}{55} \\\\\n",
    "&=&\\,\\frac{30}{11}\n",
    "\\end{split}\n",
    "\\end{equation}\n",
    "\n",
    "With the result of the series, we finally get the probability for Bob winning the game (given no infromation about the winner):\n",
    "\n",
    "\\begin{equation}\n",
    "\\begin{split}\n",
    "P\\left(B=W\\right) &=&\\,\\frac{1}{6}\\cdot\\frac{30}{11} \\\\\n",
    "&=&\\,\\frac{5}{11}\n",
    "\\end{split}\n",
    "\\end{equation}\n",
    "\n",
    "A much smarter way to compute this is by remembering that each round is independent and thus, Alice wins the game by either winning the turn or if both Alice and Bob loses the turn and Alice wins the game from there. This is given by:\n",
    "\n",
    "\\begin{equation}\n",
    "\\begin{split}\n",
    "P\\left(A=W\\right) &=&\\,\\frac{1}{6}+\\left(\\frac{5}{6}\\right)^{2}\\cdot P\\left(A=W\\right) \\\\\n",
    "\\end{split}\n",
    "\\end{equation}\n",
    "\n",
    "Solving for $P\\left(A=W\\right)$ gives $P\\left(A=W\\right)=\\frac{6}{11}$ and since both outcomes must add up to $1$, it follows that $P\\left(B=W\\right)=\\frac{5}{11}$.\n",
    "\n",
    "Anyway, we can now normalize the probability and get our final answer, given the information that Bob has won the game, to figure out the probability that he did so on his first turn:\n",
    "\n",
    "\\begin{equation}\n",
    "\\begin{split}\n",
    "P^{B=W}_{K=1}\\left(B=W|A=L\\right) &=&\\,\\frac{11}{5}\\cdot \\frac{5}{36} \\\\\n",
    "&=&\\,\\frac{11}{36} \\\\\n",
    "&=&\\,0.30\\bar{5}\n",
    "\\end{split}\n",
    "\\end{equation}\n",
    "\n",
    "If we do the same calculation for $P^{A=W}_{K=1}\\left(A=W|B=L\\right)$, we will find the same result. So now we can simulate the game and compare both results."
   ]
  },
  {
   "cell_type": "code",
   "execution_count": 58,
   "metadata": {},
   "outputs": [
    {
     "name": "stdout",
     "output_type": "stream",
     "text": [
      "Alice has won 30.57% +/- 0.06% of her winning games on the first turn.\n",
      "Bob has won 30.55% +/- 0.08% of his winning games on the first turn.\n"
     ]
    }
   ],
   "source": [
    "# Define parameters\n",
    "N_sessions = 100\n",
    "N_games = 1000000\n",
    "\n",
    "def dice_roll():\n",
    "    return random.randint(1, 6)\n",
    "\n",
    "def game_session():\n",
    "    # Let's play a few games:\n",
    "    Alice_winning_round_list = []\n",
    "    Bob_winning_round_list = []\n",
    "    for _ in range(N_games):\n",
    "        #print(\"Playing Game: {}.\\n\".format(_))\n",
    "        round_counter = 1\n",
    "        Alice, Bob = 0,0\n",
    "        while ((Alice != 6) | (Bob != 6)):\n",
    "            #print(\"Playing round: {}.\".format(round_counter))\n",
    "            Alice = dice_roll()\n",
    "            #print(\"Alice has rolled a {}.\".format(Alice))\n",
    "            if Alice == 6:\n",
    "                #print(\"Alice has won round: {}.\\n\".format(round_counter))\n",
    "                Alice_winning_round_list.append(round_counter)\n",
    "                break\n",
    "            else:\n",
    "                Bob = dice_roll()\n",
    "                #print(\"Bob has rolled a {}.\".format(Bob))\n",
    "                if Bob == 6:\n",
    "                    #print(\"Bob has won round: {}.\\n\".format(round_counter))\n",
    "                    Bob_winning_round_list.append(round_counter)\n",
    "                    break\n",
    "            round_counter += 1   \n",
    "    Alice_session_ftw = Alice_winning_round_list.count(1)/len(Alice_winning_round_list)\n",
    "    Bob_session_ftw = Bob_winning_round_list.count(1)/len(Bob_winning_round_list)\n",
    "    return Alice_session_ftw, Bob_session_ftw\n",
    "    #print(\"Alice has won {0:.2f}% of her winning games on the first turn.\".format(100*Alice_winning_round_list.count(1)/len(Alice_winning_round_list)))\n",
    "    #print(\"Bob has won {0:.2f}% of his winning games on the first turn.\".format(100*Bob_winning_round_list.count(1)/len(Bob_winning_round_list)))\n",
    "    \n",
    "Alice_session_list = []\n",
    "Bob_session_list = []\n",
    "for _ in range(N_sessions):\n",
    "    Alice_result, Bob_result = game_session()\n",
    "    Alice_session_list.append(Alice_result)\n",
    "    Bob_session_list.append(Bob_result)\n",
    "    \n",
    "print(\"Alice has won {}% +/- {}% of her winning games on the first turn.\".format(round(100*np.mean(Alice_session_list),2), round(100*np.std(Alice_session_list),2)))\n",
    "print(\"Bob has won {}% +/- {}% of his winning games on the first turn.\".format(round(100*np.mean(Bob_session_list),2), round(100*np.std(Bob_session_list),2))) "
   ]
  },
  {
   "cell_type": "markdown",
   "metadata": {},
   "source": [
    "That's looking pretty good if you ask me! Let's also take a look at the ratio."
   ]
  },
  {
   "cell_type": "code",
   "execution_count": 80,
   "metadata": {},
   "outputs": [
    {
     "name": "stdout",
     "output_type": "stream",
     "text": [
      "The ratio of the percentages of Alice's and Bob's first turn winning games is: 1.0004 +/- 0.0033.\n"
     ]
    }
   ],
   "source": [
    "Ratio_session = [Alice/Bob for Alice, Bob in zip(Alice_session_list, Bob_session_list)]\n",
    "print(\"The ratio of the percentages of Alice's and Bob's first turn winning games is: {} +/- {}.\".format(round(np.mean(Ratio_session), 4), round(np.std(Ratio_session),4))) "
   ]
  }
 ],
 "metadata": {
  "kernelspec": {
   "display_name": "Python 3",
   "language": "python",
   "name": "python3"
  }
 },
 "nbformat": 4,
 "nbformat_minor": 2
}
