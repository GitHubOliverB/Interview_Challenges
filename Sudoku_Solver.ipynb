{
 "cells": [
  {
   "cell_type": "markdown",
   "metadata": {},
   "source": [
    "## Sudoku\n",
    "__Problem:__\n",
    "\n",
    "You are given a 9x9 grid which is partially filled with digits with the task to fill the empty spots so that in each row, column and 3x3 subgrids (total of 9 that make up the grid without overlapping) you'll find all digits from 1 to 9 exactly once."
   ]
  },
  {
   "cell_type": "code",
   "execution_count": 143,
   "metadata": {},
   "outputs": [],
   "source": [
    "import numpy as np\n",
    "import itertools"
   ]
  },
  {
   "cell_type": "markdown",
   "metadata": {},
   "source": [
    "I will work with 3 example Sudokus of different degrees of difficulty. The digit $0$ will stand for a blank spot."
   ]
  },
  {
   "cell_type": "code",
   "execution_count": 219,
   "metadata": {},
   "outputs": [
    {
     "name": "stdout",
     "output_type": "stream",
     "text": [
      "[[1 8 7 0 5 9 0 3 2]\n",
      " [0 0 2 1 8 3 0 7 0]\n",
      " [3 0 4 0 0 7 9 1 0]\n",
      " [0 7 6 0 9 0 0 0 3]\n",
      " [5 2 0 7 0 4 0 9 6]\n",
      " [8 0 0 0 2 0 4 5 0]\n",
      " [0 3 8 9 0 0 2 0 1]\n",
      " [0 4 0 6 3 1 7 0 0]\n",
      " [6 9 0 8 7 0 3 4 5]]\n"
     ]
    }
   ],
   "source": [
    "# 48 given numbers\n",
    "sudoku_1 = [[1, 8, 7, 0, 5, 9, 0, 3, 2],\n",
    "            [0, 0, 2, 1, 8, 3, 0, 7, 0],\n",
    "            [3, 0, 4, 0, 0, 7, 9, 1, 0],\n",
    "            [0, 7, 6, 0, 9, 0, 0, 0, 3],\n",
    "            [5, 2, 0, 7, 0, 4, 0, 9, 6],\n",
    "            [8, 0, 0, 0, 2, 0, 4, 5, 0],\n",
    "            [0, 3, 8, 9, 0, 0, 2, 0, 1],\n",
    "            [0, 4, 0, 6, 3, 1, 7, 0, 0],\n",
    "            [6, 9, 0, 8, 7, 0, 3, 4, 5]]\n",
    "\n",
    "# 32 given numbers\n",
    "sudoku_2 = [[2, 0, 0, 3, 0, 0, 0, 0, 7],\n",
    "            [6, 0, 0, 5, 1, 0, 0, 0, 8],\n",
    "            [0, 0, 0, 8, 0, 0, 0, 0, 9],\n",
    "            [0, 6, 9, 0, 7, 0, 4, 0, 0],\n",
    "            [1, 0, 5, 4, 0, 8, 9, 0, 6],\n",
    "            [0, 0, 8, 0, 9, 0, 1, 3, 0],\n",
    "            [5, 0, 0, 0, 0, 3, 0, 0, 0],\n",
    "            [8, 0, 0, 0, 5, 6, 0, 0, 3],\n",
    "            [9, 0, 0, 0, 0, 2, 0, 0, 4]]\n",
    "\n",
    "# 24 given numbers\n",
    "sudoku_3 = [[0, 0, 0, 9, 0, 0, 0, 0, 8],\n",
    "            [9, 2, 0, 6, 7, 3, 0, 0, 0],\n",
    "            [1, 0, 0, 0, 0, 0, 0, 0, 0],\n",
    "            [0, 0, 0, 0, 0, 5, 0, 0, 9],\n",
    "            [4, 6, 0, 0, 0, 0, 0, 3, 5],\n",
    "            [8, 0, 0, 2, 0, 0, 0, 0, 0],\n",
    "            [0, 0, 0, 0, 0, 0, 0, 0, 1],\n",
    "            [0, 0, 0, 5, 3, 8, 0, 6, 7],\n",
    "            [5, 0, 0, 0, 0, 4, 0, 0, 0]]\n",
    "\n",
    "\n",
    "sudoku_false_duplicate = [[9, 0, 0, 9, 0, 0, 0, 0, 8],\n",
    "            [9, 2, 0, 6, 7, 3, 0, 0, 0],\n",
    "            [1, 0, 0, 0, 0, 0, 0, 0, 0],\n",
    "            [0, 0, 0, 0, 0, 5, 0, 0, 9],\n",
    "            [4, 6, 0, 0, 0, 0, 0, 3, 5],\n",
    "            [8, 0, 0, 2, 0, 0, 0, 0, 0],\n",
    "            [0, 0, 0, 0, 0, 0, 0, 0, 1],\n",
    "            [0, 0, 0, 5, 3, 8, 0, 6, 7],\n",
    "            [5, 0, 0, 0, 0, 4, 0, 0, 0]]\n",
    "\n",
    "sudoku_false_max = [[900, 0, 0, 9, 0, 0, 0, 0, 8],\n",
    "            [9, 2, 0, 6, 7, 3, 0, 0, 0],\n",
    "            [1, 0, 0, 0, 0, 0, 0, 0, 0],\n",
    "            [0, 0, 0, 0, 0, 5, 0, 0, 9],\n",
    "            [4, 6, 0, 0, 0, 0, 0, 3, 5],\n",
    "            [8, 0, 0, 2, 0, 0, 0, 0, 0],\n",
    "            [0, 0, 0, 0, 0, 0, 0, 0, 1],\n",
    "            [0, 0, 0, 5, 3, 8, 0, 6, 7],\n",
    "            [5, 0, 0, 0, 0, 4, 0, 0, 0]]\n",
    "\n",
    "sudoku_false_min = [[-900, 0, 0, 9, 0, 0, 0, 0, 8],\n",
    "            [9, 2, 0, 6, 7, 3, 0, 0, 0],\n",
    "            [1, 0, 0, 0, 0, 0, 0, 0, 0],\n",
    "            [0, 0, 0, 0, 0, 5, 0, 0, 9],\n",
    "            [4, 6, 0, 0, 0, 0, 0, 3, 5],\n",
    "            [8, 0, 0, 2, 0, 0, 0, 0, 0],\n",
    "            [0, 0, 0, 0, 0, 0, 0, 0, 1],\n",
    "            [0, 0, 0, 5, 3, 8, 0, 6, 7],\n",
    "            [5, 0, 0, 0, 0, 4, 0, 0, 0]]\n",
    "\n",
    "print(np.matrix(sudoku_1))\n",
    "sudoku_list = [sudoku_1, sudoku_2, sudoku_3]"
   ]
  },
  {
   "cell_type": "markdown",
   "metadata": {},
   "source": [
    "Before I can start, I need to validate my input sudoku and I also need a validation for my solution. So let's define a function to check for the properties of a classic Sudoku: 9x9 grid, digits between 1 and 9, no duplicate digit in a row, column or the 3x3 subgrids."
   ]
  },
  {
   "cell_type": "code",
   "execution_count": 245,
   "metadata": {},
   "outputs": [],
   "source": [
    "def validation(sudoku):\n",
    "    sudoku = np.matrix(sudoku)\n",
    "    if sudoku.shape != (9,9):\n",
    "        print(\"Expected a 9x9 grid\")\n",
    "        return False\n",
    "    if sudoku.max() > 9:\n",
    "        print(\"There is a value greater than 9 in the Sudoku!\")\n",
    "        return False\n",
    "    if sudoku.min() < 0:\n",
    "        print(\"There is a value less than 0 in the Sudoku!\")\n",
    "        return False\n",
    "    for i in range(9):\n",
    "        for digit in range(1,10):\n",
    "            if sudoku[:,i].tolist().count(digit) > 1:\n",
    "                return False\n",
    "            if sudoku[i,:].tolist().count(digit) > 1:\n",
    "                return False\n",
    "    for i, j in itertools.product(range(3), range(3)):\n",
    "        subgrid = list(itertools.chain.from_iterable(sudoku[i*3:i*3+3,j*3:j*3+3].tolist()))\n",
    "        for digit in range(1,10):\n",
    "            if subgrid.count(digit) > 1:\n",
    "                return False\n",
    "    if sudoku.sum() == 405:\n",
    "        print(\"\\nThis Sudoku is solved!\")\n",
    "    else:\n",
    "        print(sudoku)\n",
    "        print(\"\\nThis Sudoku isn't solved yet.\")"
   ]
  },
  {
   "cell_type": "markdown",
   "metadata": {},
   "source": [
    "Some quick tests for our validation function."
   ]
  },
  {
   "cell_type": "code",
   "execution_count": 246,
   "metadata": {},
   "outputs": [
    {
     "name": "stdout",
     "output_type": "stream",
     "text": [
      "[[1 8 7 0 5 9 0 3 2]\n",
      " [0 0 2 1 8 3 0 7 0]\n",
      " [3 0 4 0 0 7 9 1 0]\n",
      " [0 7 6 0 9 0 0 0 3]\n",
      " [5 2 0 7 0 4 0 9 6]\n",
      " [8 0 0 0 2 0 4 5 0]\n",
      " [0 3 8 9 0 0 2 0 1]\n",
      " [0 4 0 6 3 1 7 0 0]\n",
      " [6 9 0 8 7 0 3 4 5]]\n",
      "\n",
      "This Sudoku isn't solved yet.\n",
      "[[2 0 0 3 0 0 0 0 7]\n",
      " [6 0 0 5 1 0 0 0 8]\n",
      " [0 0 0 8 0 0 0 0 9]\n",
      " [0 6 9 0 7 0 4 0 0]\n",
      " [1 0 5 4 0 8 9 0 6]\n",
      " [0 0 8 0 9 0 1 3 0]\n",
      " [5 0 0 0 0 3 0 0 0]\n",
      " [8 0 0 0 5 6 0 0 3]\n",
      " [9 0 0 0 0 2 0 0 4]]\n",
      "\n",
      "This Sudoku isn't solved yet.\n",
      "[[0 0 0 9 0 0 0 0 8]\n",
      " [9 2 0 6 7 3 0 0 0]\n",
      " [1 0 0 0 0 0 0 0 0]\n",
      " [0 0 0 0 0 5 0 0 9]\n",
      " [4 6 0 0 0 0 0 3 5]\n",
      " [8 0 0 2 0 0 0 0 0]\n",
      " [0 0 0 0 0 0 0 0 1]\n",
      " [0 0 0 5 3 8 0 6 7]\n",
      " [5 0 0 0 0 4 0 0 0]]\n",
      "\n",
      "This Sudoku isn't solved yet.\n"
     ]
    }
   ],
   "source": [
    "validation(sudoku_1)\n",
    "validation(sudoku_2)\n",
    "validation(sudoku_3)"
   ]
  },
  {
   "cell_type": "code",
   "execution_count": 247,
   "metadata": {},
   "outputs": [
    {
     "data": {
      "text/plain": [
       "False"
      ]
     },
     "execution_count": 247,
     "metadata": {},
     "output_type": "execute_result"
    }
   ],
   "source": [
    "validation(sudoku_false_duplicate)"
   ]
  },
  {
   "cell_type": "code",
   "execution_count": 248,
   "metadata": {},
   "outputs": [
    {
     "name": "stdout",
     "output_type": "stream",
     "text": [
      "There is a value greater than 9 in the Sudoku!\n"
     ]
    },
    {
     "data": {
      "text/plain": [
       "False"
      ]
     },
     "execution_count": 248,
     "metadata": {},
     "output_type": "execute_result"
    }
   ],
   "source": [
    "validation(sudoku_false_max)"
   ]
  },
  {
   "cell_type": "code",
   "execution_count": 249,
   "metadata": {},
   "outputs": [
    {
     "name": "stdout",
     "output_type": "stream",
     "text": [
      "There is a value less than 0 in the Sudoku!\n"
     ]
    },
    {
     "data": {
      "text/plain": [
       "False"
      ]
     },
     "execution_count": 249,
     "metadata": {},
     "output_type": "execute_result"
    }
   ],
   "source": [
    "validation(sudoku_false_min)"
   ]
  },
  {
   "cell_type": "markdown",
   "metadata": {},
   "source": [
    "I will use a brute force methode and solve the sudoku by recursion. This works since it's only a 9x9 grid, but the solution will scale very badly for bigger grids.\n",
    "\n",
    "I'll need a function to make a valid guess for the digit in a blank spot. Then I will loop over all blank spots, make a guess and brute force my way to one solution."
   ]
  },
  {
   "cell_type": "code",
   "execution_count": 250,
   "metadata": {},
   "outputs": [],
   "source": [
    "def guess(sudoku, y, x, digit):\n",
    "    for i in range(9):\n",
    "        if sudoku[y][i] == digit:\n",
    "            return False\n",
    "    for i in range(9):\n",
    "        if sudoku[i][x] == digit:\n",
    "            return False\n",
    "    x_0, y_0 = (x//3)*3, (y//3)*3\n",
    "    for i in range(3):\n",
    "        for j in range(3):\n",
    "            if sudoku[y_0+i][x_0+j] == digit:\n",
    "                return False\n",
    "    return True"
   ]
  },
  {
   "cell_type": "code",
   "execution_count": 251,
   "metadata": {},
   "outputs": [],
   "source": [
    "def solution(sudoku):\n",
    "    for y in range(9):\n",
    "        for x in range(9):\n",
    "            if sudoku[y][x] == 0:\n",
    "                for digit in range(1,10):\n",
    "                    if guess(sudoku, y, x, digit):\n",
    "                        sudoku[y][x] = digit\n",
    "                        solution(sudoku)\n",
    "                        sudoku[y][x] = 0\n",
    "                return\n",
    "    print(np.matrix(sudoku))\n",
    "    validation(sudoku)"
   ]
  },
  {
   "cell_type": "code",
   "execution_count": 252,
   "metadata": {},
   "outputs": [
    {
     "name": "stdout",
     "output_type": "stream",
     "text": [
      "[[1 8 7 0 5 9 0 3 2]\n",
      " [0 0 2 1 8 3 0 7 0]\n",
      " [3 0 4 0 0 7 9 1 0]\n",
      " [0 7 6 0 9 0 0 0 3]\n",
      " [5 2 0 7 0 4 0 9 6]\n",
      " [8 0 0 0 2 0 4 5 0]\n",
      " [0 3 8 9 0 0 2 0 1]\n",
      " [0 4 0 6 3 1 7 0 0]\n",
      " [6 9 0 8 7 0 3 4 5]]\n",
      "\n",
      "This Sudoku isn't solved yet.\n",
      "\n",
      "\n",
      "[[1 8 7 4 5 9 6 3 2]\n",
      " [9 6 2 1 8 3 5 7 4]\n",
      " [3 5 4 2 6 7 9 1 8]\n",
      " [4 7 6 5 9 8 1 2 3]\n",
      " [5 2 3 7 1 4 8 9 6]\n",
      " [8 1 9 3 2 6 4 5 7]\n",
      " [7 3 8 9 4 5 2 6 1]\n",
      " [2 4 5 6 3 1 7 8 9]\n",
      " [6 9 1 8 7 2 3 4 5]]\n",
      "\n",
      "This Sudoku is solved!\n",
      "\n",
      "\n",
      "[[2 0 0 3 0 0 0 0 7]\n",
      " [6 0 0 5 1 0 0 0 8]\n",
      " [0 0 0 8 0 0 0 0 9]\n",
      " [0 6 9 0 7 0 4 0 0]\n",
      " [1 0 5 4 0 8 9 0 6]\n",
      " [0 0 8 0 9 0 1 3 0]\n",
      " [5 0 0 0 0 3 0 0 0]\n",
      " [8 0 0 0 5 6 0 0 3]\n",
      " [9 0 0 0 0 2 0 0 4]]\n",
      "\n",
      "This Sudoku isn't solved yet.\n",
      "\n",
      "\n",
      "[[2 8 1 3 6 9 5 4 7]\n",
      " [6 9 7 5 1 4 3 2 8]\n",
      " [4 5 3 8 2 7 6 1 9]\n",
      " [3 6 9 2 7 1 4 8 5]\n",
      " [1 2 5 4 3 8 9 7 6]\n",
      " [7 4 8 6 9 5 1 3 2]\n",
      " [5 7 2 9 4 3 8 6 1]\n",
      " [8 1 4 7 5 6 2 9 3]\n",
      " [9 3 6 1 8 2 7 5 4]]\n",
      "\n",
      "This Sudoku is solved!\n",
      "\n",
      "\n",
      "[[0 0 0 9 0 0 0 0 8]\n",
      " [9 2 0 6 7 3 0 0 0]\n",
      " [1 0 0 0 0 0 0 0 0]\n",
      " [0 0 0 0 0 5 0 0 9]\n",
      " [4 6 0 0 0 0 0 3 5]\n",
      " [8 0 0 2 0 0 0 0 0]\n",
      " [0 0 0 0 0 0 0 0 1]\n",
      " [0 0 0 5 3 8 0 6 7]\n",
      " [5 0 0 0 0 4 0 0 0]]\n",
      "\n",
      "This Sudoku isn't solved yet.\n",
      "\n",
      "\n",
      "[[6 4 3 9 5 1 7 2 8]\n",
      " [9 2 8 6 7 3 5 1 4]\n",
      " [1 5 7 4 8 2 6 9 3]\n",
      " [7 1 2 3 6 5 8 4 9]\n",
      " [4 6 9 8 1 7 2 3 5]\n",
      " [8 3 5 2 4 9 1 7 6]\n",
      " [3 8 4 7 2 6 9 5 1]\n",
      " [2 9 1 5 3 8 4 6 7]\n",
      " [5 7 6 1 9 4 3 8 2]]\n",
      "\n",
      "This Sudoku is solved!\n",
      "\n",
      "\n"
     ]
    }
   ],
   "source": [
    "for i in range(3):\n",
    "    validation(sudoku_list[i])\n",
    "    print(\"\\n\")\n",
    "    solution(sudoku_list[i])\n",
    "    print(\"\\n\")"
   ]
  },
  {
   "cell_type": "markdown",
   "metadata": {},
   "source": [
    "As you can see, it can solve the Sudokus."
   ]
  }
 ],
 "metadata": {
  "kernelspec": {
   "display_name": "Python 3",
   "language": "python",
   "name": "python3"
  },
  "language_info": {
   "codemirror_mode": {
    "name": "ipython",
    "version": 3
   },
   "file_extension": ".py",
   "mimetype": "text/x-python",
   "name": "python",
   "nbconvert_exporter": "python",
   "pygments_lexer": "ipython3",
   "version": "3.7.4"
  }
 },
 "nbformat": 4,
 "nbformat_minor": 2
}
