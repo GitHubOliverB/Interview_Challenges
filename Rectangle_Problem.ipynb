{
 "cells": [
  {
   "cell_type": "markdown",
   "metadata": {},
   "source": [
    "## How many rectangles are there?\n",
    "__Problem:__\n",
    "\n",
    "You are given a number of points in 2 dimensions. Find the number of rectangles that can be formed using these points."
   ]
  },
  {
   "cell_type": "code",
   "execution_count": 82,
   "metadata": {},
   "outputs": [],
   "source": [
    "# Basic Python Libs\n",
    "import numpy as np\n",
    "import math\n",
    "from itertools import combinations"
   ]
  },
  {
   "cell_type": "markdown",
   "metadata": {},
   "source": [
    "We need at least four points to form a rectangle. We also know that all angles in a rectangle must be $90^{°}$. \n",
    "\n",
    "I initial thought of two different strategies to approch the problem:\n",
    "\n",
    "1. Using vector analysis, we iterate over each point and look for pairs of vectors in a $90^{°}$ angle. If we find a pair, we check if a point exists if we translate our starting point by both vectors. If we find a new rectangle, we add it to our list.\n",
    "\n",
    "2. Using geometric transformations, we translate one point to the origion $\\left(0,0\\right)$ and make a rotation so that the vectors to the points are parallel to our axes. Then we can check for a pair of four points fulfilling: ${\\left(x_0, y_0\\right), \\left(x_0 + x_i, 0\\right), \\left(0, y_0 + y_i\\right), \\left(x_0 + x_i, y_0 + y_i\\right)}$. We iterate over all points and if we find a new rectangle, we add it to our list.\n",
    "\n",
    "The second approach will fail if we have additional points that do not form a rectangle at all. So I'll stick with my first approach.\n",
    "\n",
    "So what we need is one function to compute the vector to go from one point to an other, one function to compute the angle between two vectors and one function to add vectors.\n",
    "\n",
    "The angle $\\phi$ between two vectors is given by: $\\phi = \\arccos\\left(\\frac{\\vec{a}\\cdot\\vec{b}}{\\Vert\\vec{a}\\Vert\\cdot\\Vert\\vec{b}\\Vert}\\right)$"
   ]
  },
  {
   "cell_type": "code",
   "execution_count": 83,
   "metadata": {},
   "outputs": [],
   "source": [
    "def vector_point_pair(p1, p2):\n",
    "    return (p2[0]-p1[0], p2[1]-p1[1])\n",
    "\n",
    "def unit_vector(vec):\n",
    "    return vec / np.linalg.norm(vec)\n",
    "\n",
    "def angle_between_vectors(vec1, vec2):\n",
    "    vec1_u = unit_vector(vec1)\n",
    "    vec2_u = unit_vector(vec2)\n",
    "    return np.arccos(np.clip(np.dot(vec1_u, vec2_u), -1.0, 1.0))\n",
    "\n",
    "def vector_addition(vec1, vec2):\n",
    "    return (vec1[0]+vec2[0], vec1[1]+vec2[1])"
   ]
  },
  {
   "cell_type": "code",
   "execution_count": 105,
   "metadata": {},
   "outputs": [
    {
     "data": {
      "text/plain": [
       "10.0"
      ]
     },
     "execution_count": 105,
     "metadata": {},
     "output_type": "execute_result"
    }
   ],
   "source": [
    "point_list = [(0,0),\n",
    "              (1,0),\n",
    "              (0,1),\n",
    "              (-1,0),\n",
    "              (0,-1),\n",
    "              (1,1),\n",
    "              (-1,1),\n",
    "              (1,-1),\n",
    "              (-1,-1)]\n",
    "\n",
    "\n",
    "# point_list = [(0,0),\n",
    "#               (1,0),\n",
    "#               (0,1)]\n",
    "\n",
    "def rectangle_counter(points):\n",
    "    if len(points) < 4:\n",
    "        print(\"We need at least 4 points to form a rectangle!\")\n",
    "        return 0\n",
    "    else:\n",
    "        rec_point_list = []\n",
    "        for point in point_list:\n",
    "            vec_list = []\n",
    "            other_points = [x for x in point_list if x != point]\n",
    "            for other_point in other_points:\n",
    "                vec_list.append(vector_point_pair(point, other_point))\n",
    "            comb_obj = combinations(vec_list, 2)\n",
    "            for comb in list(comb_obj):\n",
    "                last_vec = vector_addition(comb[0], comb[1])\n",
    "                if ((angle_between_vectors(comb[0], comb[1]) == math.pi/2) & (last_vec in vec_list)):\n",
    "                    rec_points = [point,\n",
    "                                  vector_addition(point, comb[0]),\n",
    "                                  vector_addition(point, comb[1]),\n",
    "                                  vector_addition(point, last_vec)]\n",
    "                    #rec_list_set = list(set(rec_points))\n",
    "                    #rec_list_set = list(dict.fromkeys(rec_points))\n",
    "                    #if rec_list_set not in rec_point_list:\n",
    "                        #print(rec_list_set)\n",
    "                    #rec_point_list.append(rec_list_set)\n",
    "                    rec_point_list.append(rec_points)\n",
    "        return len(rec_point_list)/4\n",
    "\n",
    "rectangle_counter(point_list)"
   ]
  },
  {
   "cell_type": "markdown",
   "metadata": {},
   "source": [
    "For some reason the unique list trick using \n",
    "``\n",
    "list(set(list)\n",
    "``\n",
    "doesn't work. I still ended up with duplicates. Hence I'll just take all permutations and divide the result by 4."
   ]
  }
 ],
 "metadata": {
  "kernelspec": {
   "display_name": "Python 3",
   "language": "python",
   "name": "python3"
  },
  "language_info": {
   "codemirror_mode": {
    "name": "ipython",
    "version": 3
   },
   "file_extension": ".py",
   "mimetype": "text/x-python",
   "name": "python",
   "nbconvert_exporter": "python",
   "pygments_lexer": "ipython3",
   "version": "3.7.4"
  }
 },
 "nbformat": 4,
 "nbformat_minor": 2
}
