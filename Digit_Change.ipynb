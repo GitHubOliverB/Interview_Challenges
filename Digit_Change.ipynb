{
 "cells": [
  {
   "cell_type": "markdown",
   "metadata": {},
   "source": [
    "## Digit Change\n",
    "Imagine you get a positive integer. The integer may have as many digits as you like.\n",
    "\n",
    "Task:\n",
    "If possible, change only one digit of the integer to make it as big as possible.\n",
    "\n",
    "\n",
    "Hint: You need to change one digit to a '9'."
   ]
  },
  {
   "cell_type": "code",
   "execution_count": 104,
   "metadata": {},
   "outputs": [
    {
     "name": "stdout",
     "output_type": "stream",
     "text": [
      "Changing digit position 3 from left to a 9!\n",
      "Adding 7000000000\n"
     ]
    },
    {
     "data": {
      "text/plain": [
       "999913546978"
      ]
     },
     "execution_count": 104,
     "metadata": {},
     "output_type": "execute_result"
    }
   ],
   "source": [
    "import numpy as np\n",
    "\n",
    "def foo(integer):\n",
    "    integer_string = str(integer)\n",
    "    if ((len(np.unique(list(integer_string))) == 1) & (integer_string[0] == '9')):\n",
    "        print(\"Can't make the number bigger by changing one digit.\")\n",
    "        return integer\n",
    "    for k, digit in enumerate(integer_string):\n",
    "        if digit != '9':\n",
    "            print(\"Changing digit position {} from left to a 9!\".format(k+1))\n",
    "            print(\"Adding {}\".format((9-int(digit))*10**(len(integer_string)-k-1)))\n",
    "            integer += (9-int(digit))*10**(len(integer_string)-k-1)\n",
    "            break\n",
    "    return integer\n",
    "\n",
    "foo(992913546978)"
   ]
  }
 ],
 "metadata": {
  "kernelspec": {
   "display_name": "Python 3",
   "language": "python",
   "name": "python3"
  },
  "language_info": {
   "codemirror_mode": {
    "name": "ipython",
    "version": 3
   },
   "file_extension": ".py",
   "mimetype": "text/x-python",
   "name": "python",
   "nbconvert_exporter": "python",
   "pygments_lexer": "ipython3",
   "version": "3.7.4"
  }
 },
 "nbformat": 4,
 "nbformat_minor": 2
}
