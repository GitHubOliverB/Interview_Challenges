{
 "cells": [
  {
   "cell_type": "markdown",
   "metadata": {},
   "source": [
    "# Coin Games\n",
    "Solve these problems mathematically and also demonstrate a solution using code.\n",
    "\n",
    "## Game 1:\n",
    "A fair coin is tossed ($50\\,\\%$ heads, $50\\,\\%$ tails). If it comes up heads, you win $£200$, if it comes up tails, you lose $£100$.\n",
    "\n",
    "## Game 2:\n",
    "A fair coin is tossed 100 times in a row. For each toss, if it comes up heads, you win $£2$, if it comes up tails, you lose $£1$.\n",
    "\n",
    "\n",
    "## Game 3:\n",
    "This is the same as __Game $2$__ except you start with $£50$ and must stop prematurely if you run out of money. If you do not run out of money you stop ofter $100$ ﬂips, as before. In this game your proﬁt does not include the initial balance of $£50$. \n",
    "\n",
    "## Game 4:\n",
    "You can now ﬂip the coin $100$ times, but instead of having a ﬁxed stake, you can freely choose the stake for each ﬂip, just before the ﬂip. You start out with $£100$. After each ﬂip, if it comes up heads you win twice your stake (and your stake is returned), and if it comes up tails you lose your stake, ie if you start with $x$ and select as take of $s$, then after the ﬂip you will either have $x−s$ or $x+2s$. You can never make your stake larger than your current balance.\n",
    "\n",
    "Let $G_{N}$ be the proﬁt from playing Game $N$. Note that this does not include the starting balance in games 3 and 4. \n",
    "\n",
    "Problems:\n",
    "\n",
    "1. What is $\\mathbb{E}\\left[G_{1}\\right]$?\n",
    "2. What is $\\mathbb{E}\\left[G_{2}\\right]$?\n",
    "3. Do you prefer Game 1 or Game 2, or are you indifferent? Why?\n",
    "4. Is $\\mathbb{E}\\left[G_{3}\\right] > \\mathbb{E}\\left[G_{2}\\right]$, $\\mathbb{E}\\left[G_{3}\\right] = \\mathbb{E}\\left[G_{2}\\right]$, or $\\mathbb{E}\\left[G_{3}\\right] < \\mathbb{E}\\left[G_{2}\\right]$? If they are different, is the difference signiﬁcant? Include at least a brief justiﬁcation.\n",
    "5. In Game 4 how should you select your stake in each round in order to maximise:  \n",
    " a) $\\mathbb{E}\\left[G_{4}\\right]$?   \n",
    " b) $\\mathbb{E}\\left[\\log\\left(G_{4}+100\\right)\\right]$?   \n",
    " Rigorous proofs are not required, but any assertions should be justiﬁed."
   ]
  },
  {
   "cell_type": "code",
   "execution_count": 25,
   "metadata": {},
   "outputs": [],
   "source": [
    "# Basic Python Libs\n",
    "import numpy as np\n",
    "import math\n",
    "import random"
   ]
  },
  {
   "cell_type": "markdown",
   "metadata": {},
   "source": [
    "## Problem 1:\n",
    "\n",
    "The expected net profit from playing any game is equal to the expected profit of that game minus the entry fee for playing the game. You calculate how much money you'll win on average and subtract the cost of playing from it. What you have left is your net profit.  \n",
    "Here, the entry fee for playing the game is $£0$, so the expected net profit is equal to the expected profit. So all we have to do is to calculate the expected profit. Since this is a coin flipping game, there are only two outcomes we have to consider and we happen to know the probabilities for both outcomes, namely $P_{H} = 0.5$ for heads and $P_{T} = 0.5$ for tails.  \n",
    "Furthermore we know the prize for either outcome which I'll name $M_{H1} = +£200$ and $M_{T1} = -£100$, following the same indexing.\n",
    "\n",
    "Now we can easily calculate the expected profit:\n",
    "\n",
    "\\begin{equation}\n",
    "\\begin{split}\n",
    "\\mathbb{E}\\left[G_{1}\\right] &=&\\,P_{H}\\cdot M_{H1} + P_{T}\\cdot M_{T1} \\\\\n",
    " &=&\\,0.5\\cdot £200.00 - 0.5\\cdot £100.00 \\\\\n",
    " &=&\\,£50.00\n",
    "\\end{split}\n",
    "\\end{equation}\n",
    "\n",
    "__Hence the expected net profit from playing game 1 is $£50$.__\n",
    "  \n",
    "Furthermore we also should consider the variance, or better the standard deviation $\\sigma_{\\mathbb{E}\\left[G_{1}\\right]}$, for the net profit of this game:\n",
    "\n",
    "$$\\sigma_{\\mathbb{E}\\left[G_{1}\\right]}^{2} = \\left(M_{H1}-\\mathbb{E}\\left[G_{1}\\right]\\right)^{2}\\cdot P_{H} + \\left(M_{T1}-\\mathbb{E}\\left[G_{1}\\right]\\right)^{2}\\cdot P_{T}$$\n",
    "\n",
    "This comes out as:\n",
    "\n",
    "$$\\sigma_{\\mathbb{E}\\left[G_{1}\\right]} = £150.00$$\n",
    "\n",
    "For us to compare this result to an experiment, it is helpful to find the uncertainty range after repeating the experiment a couple of times. If we play the game $N_{games}$ times, then the expected net profit per game $\\bar{\\mathbb{E}}\\left[G_{1}\\right]$ should be within:\n",
    "\n",
    "$$\\bar{\\mathbb{E}}\\left[G_{1}\\right] = \\mathbb{E}\\left[G_{1}\\right] \\pm Z\\cdot \\frac{\\sigma_{\\mathbb{E}\\left[G_{1}\\right]}}{\\sqrt{N_{games}}}\\, ,$$\n",
    "\n",
    "with $Z$ dictating our confidence.\n",
    "\n",
    "Assuming we set $N_{games} = 100.000$ and $Z=3$, our empirical found mean net profit should be found within (in roughly $99.7\\,\\%$ of all cases):\n",
    "\n",
    "$$\\bar{\\mathbb{E}}\\left[G_{1}\\right] = £50.00 \\pm £1.42\\,.$$\n",
    "\n",
    "Now let's see if we find the same solution using some basic programming."
   ]
  },
  {
   "cell_type": "code",
   "execution_count": 72,
   "metadata": {},
   "outputs": [
    {
     "name": "stdout",
     "output_type": "stream",
     "text": [
      "The empirical mean net profit found for game 1 is: £49.80\n",
      "The empirical standard deviation for the net profit found for game 1 is: £150.00\n"
     ]
    }
   ],
   "source": [
    "# Define parameters\n",
    "N_games = 100000\n",
    "M_H = 200\n",
    "M_T = -100\n",
    "\n",
    "def flip():\n",
    "    C = random.randint(0, 1)\n",
    "    return [M_H if C == 0 else M_T]\n",
    "\n",
    "def game_one_results(outcome_list):\n",
    "    return np.mean(outcome_list), np.std(outcome_list)\n",
    "\n",
    "# Let's play a few games:\n",
    "outcome_list = []\n",
    "[outcome_list.append(flip()) for _ in range(N_games)]\n",
    "net_profit, profit_std = game_one_results(outcome_list)\n",
    "\n",
    "print(\"The empirical mean net profit found for game 1 is: £{0:.2f}\".format(net_profit))\n",
    "print(\"The empirical standard deviation for the net profit found for game 1 is: £{0:.2f}\".format(profit_std))"
   ]
  },
  {
   "cell_type": "markdown",
   "metadata": {},
   "source": [
    "Looks pretty good!"
   ]
  },
  {
   "cell_type": "markdown",
   "metadata": {},
   "source": [
    "## Problem 2:\n",
    "\n",
    "For game 2, we play 100 times in a row with the probabilities $P_{H} = 0.5$ for heads and $P_{T} = 0.5$ for tails and the prizes $M_{H2} = +£2$ and $M_{T2} = -£1$, following the same indexing. For a single game, we can calculate the expected net profit like we did for game 1:\n",
    "\n",
    "\n",
    "\\begin{equation}\n",
    "\\begin{split}\n",
    "\\mathbb{E}\\left[G_{2}\\right](1\\,\\textit{toss}) &=&\\,P_{H}\\cdot M_{H2} + P_{T}\\cdot M_{T2} \\\\\n",
    " &=&\\,0.5\\cdot £2.00 - 0.5\\cdot £1.00 \\\\\n",
    " &=&\\,£0.50\n",
    "\\end{split}\n",
    "\\end{equation}\n",
    "\n",
    "Since each toss is independent from one another, the total expected net profit comes out to be the sum of all expected net profits:\n",
    "\n",
    "\\begin{equation}\n",
    "\\begin{split}\n",
    "\\mathbb{E}\\left[G_{2}\\right] &=&\\,\\mathbb{E}\\left[G_{2}\\right](1\\,\\textit{toss}) + \\dots + \\mathbb{E}\\left[G_{2}\\right](1\\,\\textit{toss}) \\\\\n",
    "&=&\\,100\\cdot \\mathbb{E}\\left[G_{2}\\right](1\\,\\textit{toss}) \\\\\n",
    "&=&\\,£50.00\n",
    "\\end{split}\n",
    "\\end{equation}\n",
    "\n",
    "__Hence the expected net profit from playing game 2 is the same as for game 1, $£50$.__\n",
    "\n",
    "So what's the difference? The variance! Since each toss is independent, the variances of all $100$ tosses add up and thus the standard deviation $\\sigma_{\\mathbb{E}\\left[G_{2}\\right]}$, for the net profit of this game comes out as:\n",
    "\n",
    "$$\\sigma_{\\mathbb{E}\\left[G_{2}\\right]}^{2} = 100\\cdot\\left(\\left(M_{H2}-\\mathbb{E}\\left[G_{2}\\right](1\\,\\textit{toss})\\right)^{2}\\cdot P_{H} + \\left(M_{T2}-\\mathbb{E}\\left[G_{2}\\right](1\\,\\textit{toss})\\right)^{2}\\cdot P_{T}\\right)$$\n",
    "\n",
    "This comes out as:\n",
    "\n",
    "$$\\sigma_{\\mathbb{E}\\left[G_{2}\\right]} = £15.00$$\n",
    "\n",
    "So the standard deviation for game 2 is just $1/10$ of the standard deviation for game 1! This also means that the uncertainty range for $\\bar{\\mathbb{E}}\\left[G_{2}\\right]$ goes down to $1/10$ of what we found before!\n",
    "\n",
    "Assuming we set $N_{games} = 100.000$ and $Z=3$, our empirical found mean net profit should be found within (in roughly $99.7\\,\\%$ of all cases):\n",
    "\n",
    "$$\\bar{\\mathbb{E}}\\left[G_{2}\\right] = £50.00 \\pm £0.14\\,.$$\n",
    "\n",
    "Now let's see if we find the same solution using some basic programming."
   ]
  },
  {
   "cell_type": "code",
   "execution_count": 71,
   "metadata": {},
   "outputs": [
    {
     "name": "stdout",
     "output_type": "stream",
     "text": [
      "The empirical mean net profit found for game 2 is: £49.95\n",
      "The empirical standard deviation for the net profit found for game 2 is: £15.04\n"
     ]
    }
   ],
   "source": [
    "# Define parameters\n",
    "N_games = 100000\n",
    "N_toss = 100\n",
    "M_H = 2\n",
    "M_T = -1\n",
    "\n",
    "\n",
    "def game_two_results(outcome_list):\n",
    "    return np.sum(outcome_list)\n",
    "\n",
    "# Let's play a few games:\n",
    "game_result_list = []\n",
    "for game in range(N_games):\n",
    "    outcome_list = []\n",
    "    [outcome_list.append(flip()) for _ in range(N_toss)]\n",
    "    net_profit = game_two_results(outcome_list)\n",
    "    game_result_list.append(net_profit)\n",
    "    \n",
    "print(\"The empirical mean net profit found for game 2 is: £{0:.2f}\".format(np.mean(game_result_list)))\n",
    "print(\"The empirical standard deviation for the net profit found for game 2 is: £{0:.2f}\".format(np.std(game_result_list)))"
   ]
  },
  {
   "cell_type": "markdown",
   "metadata": {},
   "source": [
    "Seems pretty good as well!"
   ]
  },
  {
   "cell_type": "markdown",
   "metadata": {},
   "source": [
    "## Problem 3:\n",
    "\n",
    "So we have pretty much seen that in terms of the expected net profit, there is no difference between game 1 and game 2. The only difference lies within the standard deviation and thus, it really depends on the player's preference. Game 2 offers a much lower standard deviation, meaning a more consistent outcome with little variation. As for game 1, you'll see much larger variations, but you're probably saving time here. Since I'm not that much of a gambler, I would go with game 2."
   ]
  },
  {
   "cell_type": "markdown",
   "metadata": {},
   "source": [
    "## Problem 4:\n",
    "\n",
    "Given the twist that we have to stop once we run out of money starting with $£50$, it is clear that the difference between $\\mathbb{E}\\left[G_{3}\\right]$ and $\\mathbb{E}\\left[G_{2}\\right]$ can't be significant, since this rarely happens. Now in the case that we don't run out of money, there is no difference between the expected net profit for both games. However in the case that we run out of money, we will have to stop and lose $£50$ for game 3. This is the same for game 2 only if it happens on the last toss. Otherwise, we would continue to play with game 2 and since we have an expected net profit of $£0.50$ per toss, we are more likely to increase our net profit for this round where we don't have to speak if we reach a balance of $-£50$.   \n",
    "\n",
    "Thus I would argue that $\\mathbb{E}\\left[G_{3}\\right] < \\mathbb{E}\\left[G_{2}\\right]$."
   ]
  },
  {
   "cell_type": "code",
   "execution_count": null,
   "metadata": {},
   "outputs": [],
   "source": []
  }
 ],
 "metadata": {
  "kernelspec": {
   "display_name": "Python 3",
   "language": "python",
   "name": "python3"
  },
  "language_info": {
   "codemirror_mode": {
    "name": "ipython",
    "version": 3
   },
   "file_extension": ".py",
   "mimetype": "text/x-python",
   "name": "python",
   "nbconvert_exporter": "python",
   "pygments_lexer": "ipython3",
   "version": "3.7.4"
  }
 },
 "nbformat": 4,
 "nbformat_minor": 2
}
